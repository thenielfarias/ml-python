{
 "cells": [
  {
   "cell_type": "code",
   "execution_count": 1,
   "id": "e3f9014e-85d6-429c-9917-af07965c7f60",
   "metadata": {},
   "outputs": [],
   "source": [
    "import pandas as pd\n",
    "import numpy as np\n",
    "import sklearn\n",
    "from sklearn.linear_model import LinearRegression\n",
    "from sklearn import linear_model"
   ]
  },
  {
   "cell_type": "code",
   "execution_count": 2,
   "id": "bd52f1d0-3964-48c0-abc3-5a2ad473bc34",
   "metadata": {},
   "outputs": [
    {
     "data": {
      "text/html": [
       "<div>\n",
       "<style scoped>\n",
       "    .dataframe tbody tr th:only-of-type {\n",
       "        vertical-align: middle;\n",
       "    }\n",
       "\n",
       "    .dataframe tbody tr th {\n",
       "        vertical-align: top;\n",
       "    }\n",
       "\n",
       "    .dataframe thead th {\n",
       "        text-align: right;\n",
       "    }\n",
       "</style>\n",
       "<table border=\"1\" class=\"dataframe\">\n",
       "  <thead>\n",
       "    <tr style=\"text-align: right;\">\n",
       "      <th></th>\n",
       "      <th>Gender</th>\n",
       "      <th>Height</th>\n",
       "      <th>Weight</th>\n",
       "    </tr>\n",
       "  </thead>\n",
       "  <tbody>\n",
       "    <tr>\n",
       "      <th>7626</th>\n",
       "      <td>Female</td>\n",
       "      <td>64.128616</td>\n",
       "      <td>145.236805</td>\n",
       "    </tr>\n",
       "    <tr>\n",
       "      <th>9910</th>\n",
       "      <td>Female</td>\n",
       "      <td>59.405654</td>\n",
       "      <td>111.853465</td>\n",
       "    </tr>\n",
       "    <tr>\n",
       "      <th>2190</th>\n",
       "      <td>Male</td>\n",
       "      <td>69.514604</td>\n",
       "      <td>174.215001</td>\n",
       "    </tr>\n",
       "    <tr>\n",
       "      <th>4809</th>\n",
       "      <td>Male</td>\n",
       "      <td>72.783766</td>\n",
       "      <td>201.668040</td>\n",
       "    </tr>\n",
       "    <tr>\n",
       "      <th>6154</th>\n",
       "      <td>Female</td>\n",
       "      <td>63.979823</td>\n",
       "      <td>156.624550</td>\n",
       "    </tr>\n",
       "  </tbody>\n",
       "</table>\n",
       "</div>"
      ],
      "text/plain": [
       "      Gender     Height      Weight\n",
       "7626  Female  64.128616  145.236805\n",
       "9910  Female  59.405654  111.853465\n",
       "2190    Male  69.514604  174.215001\n",
       "4809    Male  72.783766  201.668040\n",
       "6154  Female  63.979823  156.624550"
      ]
     },
     "execution_count": 2,
     "metadata": {},
     "output_type": "execute_result"
    }
   ],
   "source": [
    "data = pd.read_csv('/home/thenielfarias/Downloads/genderHeightWeight.csv')\n",
    "data.sample(5)"
   ]
  },
  {
   "cell_type": "code",
   "execution_count": 3,
   "id": "122c46bc-4040-494f-82c6-096a2fc9b1a9",
   "metadata": {},
   "outputs": [
    {
     "name": "stdout",
     "output_type": "stream",
     "text": [
      "      Male\n",
      "0        1\n",
      "1        1\n",
      "2        1\n",
      "3        1\n",
      "4        1\n",
      "...    ...\n",
      "9995     0\n",
      "9996     0\n",
      "9997     0\n",
      "9998     0\n",
      "9999     0\n",
      "\n",
      "[10000 rows x 1 columns]\n"
     ]
    }
   ],
   "source": [
    "Gender = pd.get_dummies(data['Gender'], drop_first=True)\n",
    "print(Gender)"
   ]
  },
  {
   "cell_type": "code",
   "execution_count": 4,
   "id": "691a623f-ed48-4993-8da6-9989229a244f",
   "metadata": {},
   "outputs": [
    {
     "name": "stdout",
     "output_type": "stream",
     "text": [
      "      Gender     Height      Weight  Male\n",
      "0       Male  73.847017  241.893563     1\n",
      "1       Male  68.781904  162.310473     1\n",
      "2       Male  74.110105  212.740856     1\n",
      "3       Male  71.730978  220.042470     1\n",
      "4       Male  69.881796  206.349801     1\n",
      "...      ...        ...         ...   ...\n",
      "9995  Female  66.172652  136.777454     0\n",
      "9996  Female  67.067155  170.867906     0\n",
      "9997  Female  63.867992  128.475319     0\n",
      "9998  Female  69.034243  163.852461     0\n",
      "9999  Female  61.944246  113.649103     0\n",
      "\n",
      "[10000 rows x 4 columns]\n"
     ]
    }
   ],
   "source": [
    "data = pd.concat([data, Gender], axis=1)\n",
    "print(data)"
   ]
  },
  {
   "cell_type": "code",
   "execution_count": 5,
   "id": "377c232c-1a73-4220-9683-767869c73234",
   "metadata": {},
   "outputs": [
    {
     "name": "stdout",
     "output_type": "stream",
     "text": [
      "         Height      Weight  Male\n",
      "0     73.847017  241.893563     1\n",
      "1     68.781904  162.310473     1\n",
      "2     74.110105  212.740856     1\n",
      "3     71.730978  220.042470     1\n",
      "4     69.881796  206.349801     1\n",
      "...         ...         ...   ...\n",
      "9995  66.172652  136.777454     0\n",
      "9996  67.067155  170.867906     0\n",
      "9997  63.867992  128.475319     0\n",
      "9998  69.034243  163.852461     0\n",
      "9999  61.944246  113.649103     0\n",
      "\n",
      "[10000 rows x 3 columns]\n"
     ]
    }
   ],
   "source": [
    "data.drop(['Gender'], axis=1, inplace=True)\n",
    "print(data)"
   ]
  },
  {
   "cell_type": "code",
   "execution_count": 6,
   "id": "5a1f960c-2015-4994-b6a1-db8d9e0b5513",
   "metadata": {},
   "outputs": [],
   "source": [
    "X=data[['Height']]\n",
    "Y=data['Male']"
   ]
  },
  {
   "cell_type": "code",
   "execution_count": 7,
   "id": "de3de60e-ba93-405d-9233-903e295703a4",
   "metadata": {},
   "outputs": [
    {
     "name": "stdout",
     "output_type": "stream",
     "text": [
      "         Height      Weight  Male\n",
      "0     73.847017  241.893563     1\n",
      "1     68.781904  162.310473     1\n",
      "2     74.110105  212.740856     1\n",
      "3     71.730978  220.042470     1\n",
      "4     69.881796  206.349801     1\n",
      "...         ...         ...   ...\n",
      "9995  66.172652  136.777454     0\n",
      "9996  67.067155  170.867906     0\n",
      "9997  63.867992  128.475319     0\n",
      "9998  69.034243  163.852461     0\n",
      "9999  61.944246  113.649103     0\n",
      "\n",
      "[10000 rows x 3 columns]\n"
     ]
    }
   ],
   "source": [
    "print(data)"
   ]
  },
  {
   "cell_type": "code",
   "execution_count": 8,
   "id": "35ce788b-02ec-46ec-a920-c3e9d52693ee",
   "metadata": {},
   "outputs": [],
   "source": [
    "a = linear_model.LogisticRegression()\n",
    "fitted_model = a.fit(X, Y)"
   ]
  },
  {
   "cell_type": "code",
   "execution_count": 9,
   "id": "c47a218d-1a11-4e0d-8726-2bc45e2c7d3b",
   "metadata": {},
   "outputs": [
    {
     "name": "stdout",
     "output_type": "stream",
     "text": [
      "[1 1 1 ... 0 1 0]\n"
     ]
    }
   ],
   "source": [
    "Ypred=a.predict(X)\n",
    "print(Ypred)"
   ]
  },
  {
   "cell_type": "code",
   "execution_count": 10,
   "id": "944c0f04-30e6-4e1d-9075-b3b3837d24d5",
   "metadata": {},
   "outputs": [
    {
     "name": "stdout",
     "output_type": "stream",
     "text": [
      "Probabilities\n",
      "[[0.00588925 0.99411075]\n",
      " [0.15837284 0.84162716]\n",
      " [0.00492571 0.99507429]\n",
      " ...\n",
      " [0.84352759 0.15647241]\n",
      " [0.13673511 0.86326489]\n",
      " [0.95249272 0.04750728]]\n"
     ]
    }
   ],
   "source": [
    "print(\"Probabilities\")\n",
    "prob=a.predict_proba(X)\n",
    "print(prob)\n",
    "#Left side probability values for female and right side for male"
   ]
  },
  {
   "cell_type": "code",
   "execution_count": 11,
   "id": "43def598-ecb6-42cb-9318-48872d5f120f",
   "metadata": {},
   "outputs": [
    {
     "name": "stdout",
     "output_type": "stream",
     "text": [
      "0.8326\n"
     ]
    }
   ],
   "source": [
    "accuracy=a.score(X,Y)\n",
    "print(accuracy)"
   ]
  },
  {
   "cell_type": "code",
   "execution_count": null,
   "id": "4bbedde3-dc96-458f-a636-9d8b931c30b4",
   "metadata": {},
   "outputs": [],
   "source": []
  }
 ],
 "metadata": {
  "kernelspec": {
   "display_name": "Python 3 (ipykernel)",
   "language": "python",
   "name": "python3"
  },
  "language_info": {
   "codemirror_mode": {
    "name": "ipython",
    "version": 3
   },
   "file_extension": ".py",
   "mimetype": "text/x-python",
   "name": "python",
   "nbconvert_exporter": "python",
   "pygments_lexer": "ipython3",
   "version": "3.9.5"
  }
 },
 "nbformat": 4,
 "nbformat_minor": 5
}
