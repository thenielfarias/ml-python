{
 "cells": [
  {
   "cell_type": "code",
   "execution_count": 1,
   "id": "46252564-a7ca-45fb-aa6f-73f1445079f0",
   "metadata": {},
   "outputs": [],
   "source": [
    "import pandas as pd\n",
    "import numpy as np"
   ]
  },
  {
   "cell_type": "code",
   "execution_count": 4,
   "id": "89acb3a4-5e84-4b9e-9fdb-607a21fd2043",
   "metadata": {},
   "outputs": [
    {
     "data": {
      "text/html": [
       "<div>\n",
       "<style scoped>\n",
       "    .dataframe tbody tr th:only-of-type {\n",
       "        vertical-align: middle;\n",
       "    }\n",
       "\n",
       "    .dataframe tbody tr th {\n",
       "        vertical-align: top;\n",
       "    }\n",
       "\n",
       "    .dataframe thead th {\n",
       "        text-align: right;\n",
       "    }\n",
       "</style>\n",
       "<table border=\"1\" class=\"dataframe\">\n",
       "  <thead>\n",
       "    <tr style=\"text-align: right;\">\n",
       "      <th></th>\n",
       "      <th>sepal.length</th>\n",
       "      <th>sepal.width</th>\n",
       "      <th>petal.length</th>\n",
       "      <th>petal.width</th>\n",
       "      <th>variety</th>\n",
       "    </tr>\n",
       "  </thead>\n",
       "  <tbody>\n",
       "    <tr>\n",
       "      <th>0</th>\n",
       "      <td>5.1</td>\n",
       "      <td>3.5</td>\n",
       "      <td>1.4</td>\n",
       "      <td>0.2</td>\n",
       "      <td>Setosa</td>\n",
       "    </tr>\n",
       "    <tr>\n",
       "      <th>1</th>\n",
       "      <td>4.9</td>\n",
       "      <td>3.0</td>\n",
       "      <td>1.4</td>\n",
       "      <td>0.2</td>\n",
       "      <td>Setosa</td>\n",
       "    </tr>\n",
       "    <tr>\n",
       "      <th>2</th>\n",
       "      <td>4.7</td>\n",
       "      <td>3.2</td>\n",
       "      <td>1.3</td>\n",
       "      <td>0.2</td>\n",
       "      <td>Setosa</td>\n",
       "    </tr>\n",
       "    <tr>\n",
       "      <th>3</th>\n",
       "      <td>4.6</td>\n",
       "      <td>3.1</td>\n",
       "      <td>1.5</td>\n",
       "      <td>0.2</td>\n",
       "      <td>Setosa</td>\n",
       "    </tr>\n",
       "    <tr>\n",
       "      <th>4</th>\n",
       "      <td>5.0</td>\n",
       "      <td>3.6</td>\n",
       "      <td>1.4</td>\n",
       "      <td>0.2</td>\n",
       "      <td>Setosa</td>\n",
       "    </tr>\n",
       "  </tbody>\n",
       "</table>\n",
       "</div>"
      ],
      "text/plain": [
       "   sepal.length  sepal.width  petal.length  petal.width variety\n",
       "0           5.1          3.5           1.4          0.2  Setosa\n",
       "1           4.9          3.0           1.4          0.2  Setosa\n",
       "2           4.7          3.2           1.3          0.2  Setosa\n",
       "3           4.6          3.1           1.5          0.2  Setosa\n",
       "4           5.0          3.6           1.4          0.2  Setosa"
      ]
     },
     "execution_count": 4,
     "metadata": {},
     "output_type": "execute_result"
    }
   ],
   "source": [
    "df = pd.read_csv(\"/home/thenielfarias/Downloads/iris.csv\")\n",
    "df.head()    "
   ]
  },
  {
   "cell_type": "code",
   "execution_count": 5,
   "id": "0d6ef6aa-cb83-4bbd-816c-ebbd2cedd9a7",
   "metadata": {},
   "outputs": [],
   "source": [
    "x=df[['sepal.length','sepal.width','petal.length','petal.width']]\n",
    "y=df['variety']"
   ]
  },
  {
   "cell_type": "code",
   "execution_count": 6,
   "id": "cb20c8e9-172c-498e-878b-e514a4f43ef4",
   "metadata": {},
   "outputs": [],
   "source": [
    "from sklearn.model_selection import train_test_split\n",
    "\n",
    "X_train, X_test, Y_train, Y_test = train_test_split(x,y, test_size = 0.80)"
   ]
  },
  {
   "cell_type": "code",
   "execution_count": 7,
   "id": "a1fe099b-8db9-4069-9522-ceab4767d946",
   "metadata": {},
   "outputs": [
    {
     "name": "stdout",
     "output_type": "stream",
     "text": [
      "['Versicolor' 'Virginica' 'Versicolor' 'Versicolor' 'Setosa' 'Versicolor'\n",
      " 'Versicolor' 'Virginica' 'Virginica' 'Setosa' 'Virginica' 'Versicolor'\n",
      " 'Setosa' 'Virginica' 'Virginica' 'Virginica' 'Setosa' 'Versicolor'\n",
      " 'Virginica' 'Virginica' 'Virginica' 'Virginica' 'Versicolor' 'Virginica'\n",
      " 'Virginica' 'Virginica' 'Virginica' 'Versicolor' 'Virginica' 'Versicolor'\n",
      " 'Virginica' 'Setosa' 'Virginica' 'Setosa' 'Versicolor' 'Setosa'\n",
      " 'Versicolor' 'Versicolor' 'Setosa' 'Versicolor' 'Versicolor' 'Setosa'\n",
      " 'Setosa' 'Versicolor' 'Setosa' 'Virginica' 'Virginica' 'Versicolor'\n",
      " 'Versicolor' 'Versicolor' 'Setosa' 'Versicolor' 'Setosa' 'Virginica'\n",
      " 'Virginica' 'Versicolor' 'Virginica' 'Virginica' 'Virginica' 'Setosa'\n",
      " 'Versicolor' 'Setosa' 'Setosa' 'Versicolor' 'Setosa' 'Virginica' 'Setosa'\n",
      " 'Setosa' 'Virginica' 'Virginica' 'Versicolor' 'Versicolor' 'Virginica'\n",
      " 'Setosa' 'Versicolor' 'Virginica' 'Setosa' 'Setosa' 'Virginica'\n",
      " 'Virginica' 'Setosa' 'Versicolor' 'Versicolor' 'Virginica' 'Setosa'\n",
      " 'Setosa' 'Setosa' 'Setosa' 'Virginica' 'Setosa' 'Setosa' 'Versicolor'\n",
      " 'Virginica' 'Versicolor' 'Setosa' 'Versicolor' 'Versicolor' 'Setosa'\n",
      " 'Versicolor' 'Virginica' 'Setosa' 'Versicolor' 'Setosa' 'Versicolor'\n",
      " 'Versicolor' 'Virginica' 'Setosa' 'Versicolor' 'Setosa' 'Virginica'\n",
      " 'Setosa' 'Setosa' 'Setosa' 'Virginica' 'Virginica' 'Virginica'\n",
      " 'Virginica' 'Setosa' 'Virginica' 'Setosa']\n"
     ]
    }
   ],
   "source": [
    "from sklearn.neighbors import KNeighborsClassifier\n",
    "\n",
    "knn = KNeighborsClassifier(n_neighbors=3)\n",
    "knn.fit(X_train,Y_train)\n",
    "y_pred = knn.predict(X_test)\n",
    "print(y_pred)"
   ]
  },
  {
   "cell_type": "code",
   "execution_count": 8,
   "id": "f30603d4-dd75-4969-aa41-b49ed10a1dbd",
   "metadata": {},
   "outputs": [
    {
     "name": "stdout",
     "output_type": "stream",
     "text": [
      "              precision    recall  f1-score   support\n",
      "\n",
      "      Setosa       1.00      1.00      1.00        40\n",
      "  Versicolor       0.97      0.90      0.94        40\n",
      "   Virginica       0.91      0.97      0.94        40\n",
      "\n",
      "    accuracy                           0.96       120\n",
      "   macro avg       0.96      0.96      0.96       120\n",
      "weighted avg       0.96      0.96      0.96       120\n",
      "\n"
     ]
    }
   ],
   "source": [
    "from sklearn.metrics import classification_report\n",
    "\n",
    "print(classification_report(Y_test, y_pred))"
   ]
  },
  {
   "cell_type": "code",
   "execution_count": null,
   "id": "649a4e84-c8a2-4989-90a5-f894b93aa9c6",
   "metadata": {},
   "outputs": [],
   "source": []
  }
 ],
 "metadata": {
  "kernelspec": {
   "display_name": "Python 3 (ipykernel)",
   "language": "python",
   "name": "python3"
  },
  "language_info": {
   "codemirror_mode": {
    "name": "ipython",
    "version": 3
   },
   "file_extension": ".py",
   "mimetype": "text/x-python",
   "name": "python",
   "nbconvert_exporter": "python",
   "pygments_lexer": "ipython3",
   "version": "3.9.5"
  }
 },
 "nbformat": 4,
 "nbformat_minor": 5
}
