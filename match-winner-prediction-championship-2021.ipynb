{
 "cells": [
  {
   "cell_type": "code",
   "execution_count": 1,
   "id": "8b98fee4",
   "metadata": {
    "_cell_guid": "b1076dfc-b9ad-4769-8c92-a6c4dae69d19",
    "_uuid": "8f2839f25d086af736a60e9eeb907d3b93b6e0e5",
    "execution": {
     "iopub.execute_input": "2021-12-13T15:42:10.031751Z",
     "iopub.status.busy": "2021-12-13T15:42:10.029925Z",
     "iopub.status.idle": "2021-12-13T15:42:10.052854Z",
     "shell.execute_reply": "2021-12-13T15:42:10.053378Z",
     "shell.execute_reply.started": "2021-12-13T15:41:15.517764Z"
    },
    "papermill": {
     "duration": 0.062021,
     "end_time": "2021-12-13T15:42:10.053715",
     "exception": false,
     "start_time": "2021-12-13T15:42:09.991694",
     "status": "completed"
    },
    "tags": []
   },
   "outputs": [
    {
     "name": "stdout",
     "output_type": "stream",
     "text": [
      "/kaggle/input/matches-brazilian-football-from-2003-to-2019/ranking-2003-2021.txt\n",
      "/kaggle/input/matches-brazilian-football-from-2003-to-2019/average-attendance-2003-2019.txt\n",
      "/kaggle/input/matches-brazilian-football-from-2003-to-2019/matches-2003-2021.txt\n"
     ]
    }
   ],
   "source": [
    "import os\n",
    "for dirname, _, filenames in os.walk('/kaggle/input'):\n",
    "    for filename in filenames:\n",
    "        print(os.path.join(dirname, filename))"
   ]
  },
  {
   "cell_type": "code",
   "execution_count": 2,
   "id": "269f3382",
   "metadata": {
    "execution": {
     "iopub.execute_input": "2021-12-13T15:42:10.128512Z",
     "iopub.status.busy": "2021-12-13T15:42:10.127537Z",
     "iopub.status.idle": "2021-12-13T15:42:10.131517Z",
     "shell.execute_reply": "2021-12-13T15:42:10.132046Z",
     "shell.execute_reply.started": "2021-12-13T15:41:15.529457Z"
    },
    "papermill": {
     "duration": 0.04024,
     "end_time": "2021-12-13T15:42:10.132224",
     "exception": false,
     "start_time": "2021-12-13T15:42:10.091984",
     "status": "completed"
    },
    "tags": []
   },
   "outputs": [],
   "source": [
    "import pandas as pd\n",
    "import numpy as np\n",
    "from datetime import datetime"
   ]
  },
  {
   "cell_type": "code",
   "execution_count": 3,
   "id": "a0a84303",
   "metadata": {
    "execution": {
     "iopub.execute_input": "2021-12-13T15:42:10.200900Z",
     "iopub.status.busy": "2021-12-13T15:42:10.200049Z",
     "iopub.status.idle": "2021-12-13T15:42:10.227649Z",
     "shell.execute_reply": "2021-12-13T15:42:10.228177Z",
     "shell.execute_reply.started": "2021-12-13T15:41:15.536885Z"
    },
    "papermill": {
     "duration": 0.063461,
     "end_time": "2021-12-13T15:42:10.228346",
     "exception": false,
     "start_time": "2021-12-13T15:42:10.164885",
     "status": "completed"
    },
    "tags": []
   },
   "outputs": [],
   "source": [
    "df_matches = pd.read_csv('../input/matches-brazilian-football-from-2003-to-2019/matches-2003-2021.txt', delimiter=';', encoding='latin-1')"
   ]
  },
  {
   "cell_type": "code",
   "execution_count": 4,
   "id": "f62e3cca",
   "metadata": {
    "execution": {
     "iopub.execute_input": "2021-12-13T15:42:10.296759Z",
     "iopub.status.busy": "2021-12-13T15:42:10.296089Z",
     "iopub.status.idle": "2021-12-13T15:42:10.318200Z",
     "shell.execute_reply": "2021-12-13T15:42:10.318742Z",
     "shell.execute_reply.started": "2021-12-13T15:41:15.568059Z"
    },
    "papermill": {
     "duration": 0.057467,
     "end_time": "2021-12-13T15:42:10.318908",
     "exception": false,
     "start_time": "2021-12-13T15:42:10.261441",
     "status": "completed"
    },
    "tags": []
   },
   "outputs": [
    {
     "data": {
      "text/html": [
       "<div>\n",
       "<style scoped>\n",
       "    .dataframe tbody tr th:only-of-type {\n",
       "        vertical-align: middle;\n",
       "    }\n",
       "\n",
       "    .dataframe tbody tr th {\n",
       "        vertical-align: top;\n",
       "    }\n",
       "\n",
       "    .dataframe thead th {\n",
       "        text-align: right;\n",
       "    }\n",
       "</style>\n",
       "<table border=\"1\" class=\"dataframe\">\n",
       "  <thead>\n",
       "    <tr style=\"text-align: right;\">\n",
       "      <th></th>\n",
       "      <th>#ROUND</th>\n",
       "      <th>DATE</th>\n",
       "      <th>HOUR</th>\n",
       "      <th>HOME-TEAM</th>\n",
       "      <th>SCORE</th>\n",
       "      <th>AWAY-TEAM</th>\n",
       "    </tr>\n",
       "  </thead>\n",
       "  <tbody>\n",
       "    <tr>\n",
       "      <th>0</th>\n",
       "      <td>1</td>\n",
       "      <td>29/03/2003</td>\n",
       "      <td>18:00</td>\n",
       "      <td>Guarani/SP</td>\n",
       "      <td>4x2</td>\n",
       "      <td>Vasco/RJ</td>\n",
       "    </tr>\n",
       "    <tr>\n",
       "      <th>1</th>\n",
       "      <td>1</td>\n",
       "      <td>29/03/2003</td>\n",
       "      <td>18:00</td>\n",
       "      <td>Atlético/PR</td>\n",
       "      <td>2x0</td>\n",
       "      <td>Grêmio/RS</td>\n",
       "    </tr>\n",
       "    <tr>\n",
       "      <th>2</th>\n",
       "      <td>1</td>\n",
       "      <td>30/03/2003</td>\n",
       "      <td>18:00</td>\n",
       "      <td>Goiás/GO</td>\n",
       "      <td>2x2</td>\n",
       "      <td>Paysandu/PA</td>\n",
       "    </tr>\n",
       "    <tr>\n",
       "      <th>3</th>\n",
       "      <td>1</td>\n",
       "      <td>30/03/2003</td>\n",
       "      <td>18:00</td>\n",
       "      <td>Corinthians/SP</td>\n",
       "      <td>0x3</td>\n",
       "      <td>Atlético/MG</td>\n",
       "    </tr>\n",
       "    <tr>\n",
       "      <th>4</th>\n",
       "      <td>1</td>\n",
       "      <td>30/03/2003</td>\n",
       "      <td>16:00</td>\n",
       "      <td>Flamengo/RJ</td>\n",
       "      <td>1x1</td>\n",
       "      <td>Coritiba/PR</td>\n",
       "    </tr>\n",
       "    <tr>\n",
       "      <th>...</th>\n",
       "      <td>...</td>\n",
       "      <td>...</td>\n",
       "      <td>...</td>\n",
       "      <td>...</td>\n",
       "      <td>...</td>\n",
       "      <td>...</td>\n",
       "    </tr>\n",
       "    <tr>\n",
       "      <th>7641</th>\n",
       "      <td>2</td>\n",
       "      <td>09/12/2021</td>\n",
       "      <td>21:30</td>\n",
       "      <td>Grêmio/RS</td>\n",
       "      <td>4x3</td>\n",
       "      <td>Atlético/MG</td>\n",
       "    </tr>\n",
       "    <tr>\n",
       "      <th>7642</th>\n",
       "      <td>2</td>\n",
       "      <td>09/12/2021</td>\n",
       "      <td>21:30</td>\n",
       "      <td>Fortaleza/CE</td>\n",
       "      <td>2x1</td>\n",
       "      <td>Bahia/BA</td>\n",
       "    </tr>\n",
       "    <tr>\n",
       "      <th>7643</th>\n",
       "      <td>2</td>\n",
       "      <td>09/12/2021</td>\n",
       "      <td>21:30</td>\n",
       "      <td>Sport/PE</td>\n",
       "      <td>1x1</td>\n",
       "      <td>Atlético/PR</td>\n",
       "    </tr>\n",
       "    <tr>\n",
       "      <th>7644</th>\n",
       "      <td>2</td>\n",
       "      <td>09/12/2021</td>\n",
       "      <td>21:30</td>\n",
       "      <td>Bragantino/SP</td>\n",
       "      <td>1x0</td>\n",
       "      <td>Internacional/RS</td>\n",
       "    </tr>\n",
       "    <tr>\n",
       "      <th>7645</th>\n",
       "      <td>2</td>\n",
       "      <td>09/12/2021</td>\n",
       "      <td>21:30</td>\n",
       "      <td>Juventude/RS</td>\n",
       "      <td>1x0</td>\n",
       "      <td>Corinthians/SP</td>\n",
       "    </tr>\n",
       "  </tbody>\n",
       "</table>\n",
       "<p>7646 rows × 6 columns</p>\n",
       "</div>"
      ],
      "text/plain": [
       "      #ROUND        DATE   HOUR       HOME-TEAM SCORE         AWAY-TEAM\n",
       "0          1  29/03/2003  18:00      Guarani/SP   4x2          Vasco/RJ\n",
       "1          1  29/03/2003  18:00     Atlético/PR   2x0         Grêmio/RS\n",
       "2          1  30/03/2003  18:00        Goiás/GO   2x2       Paysandu/PA\n",
       "3          1  30/03/2003  18:00  Corinthians/SP   0x3       Atlético/MG\n",
       "4          1  30/03/2003  16:00     Flamengo/RJ   1x1       Coritiba/PR\n",
       "...      ...         ...    ...             ...   ...               ...\n",
       "7641       2  09/12/2021  21:30       Grêmio/RS   4x3       Atlético/MG\n",
       "7642       2  09/12/2021  21:30    Fortaleza/CE   2x1          Bahia/BA\n",
       "7643       2  09/12/2021  21:30        Sport/PE   1x1       Atlético/PR\n",
       "7644       2  09/12/2021  21:30   Bragantino/SP   1x0  Internacional/RS\n",
       "7645       2  09/12/2021  21:30    Juventude/RS   1x0    Corinthians/SP\n",
       "\n",
       "[7646 rows x 6 columns]"
      ]
     },
     "execution_count": 4,
     "metadata": {},
     "output_type": "execute_result"
    }
   ],
   "source": [
    "df_matches"
   ]
  },
  {
   "cell_type": "code",
   "execution_count": 5,
   "id": "5d0a1e08",
   "metadata": {
    "execution": {
     "iopub.execute_input": "2021-12-13T15:42:10.395938Z",
     "iopub.status.busy": "2021-12-13T15:42:10.388139Z",
     "iopub.status.idle": "2021-12-13T15:42:10.397716Z",
     "shell.execute_reply": "2021-12-13T15:42:10.398170Z",
     "shell.execute_reply.started": "2021-12-13T15:41:15.589133Z"
    },
    "papermill": {
     "duration": 0.046326,
     "end_time": "2021-12-13T15:42:10.398342",
     "exception": false,
     "start_time": "2021-12-13T15:42:10.352016",
     "status": "completed"
    },
    "tags": []
   },
   "outputs": [],
   "source": [
    "df_matches.drop(columns=['#ROUND', 'HOUR'], inplace=True)"
   ]
  },
  {
   "cell_type": "code",
   "execution_count": 6,
   "id": "8ae67990",
   "metadata": {
    "execution": {
     "iopub.execute_input": "2021-12-13T15:42:10.468902Z",
     "iopub.status.busy": "2021-12-13T15:42:10.468268Z",
     "iopub.status.idle": "2021-12-13T15:42:10.471072Z",
     "shell.execute_reply": "2021-12-13T15:42:10.471612Z",
     "shell.execute_reply.started": "2021-12-13T15:41:15.596086Z"
    },
    "papermill": {
     "duration": 0.040349,
     "end_time": "2021-12-13T15:42:10.471770",
     "exception": false,
     "start_time": "2021-12-13T15:42:10.431421",
     "status": "completed"
    },
    "tags": []
   },
   "outputs": [],
   "source": [
    "currentYear = datetime.now().year"
   ]
  },
  {
   "cell_type": "code",
   "execution_count": 7,
   "id": "6ff26cec",
   "metadata": {
    "execution": {
     "iopub.execute_input": "2021-12-13T15:42:10.542907Z",
     "iopub.status.busy": "2021-12-13T15:42:10.542235Z",
     "iopub.status.idle": "2021-12-13T15:42:14.117029Z",
     "shell.execute_reply": "2021-12-13T15:42:14.116281Z",
     "shell.execute_reply.started": "2021-12-13T15:41:15.608446Z"
    },
    "papermill": {
     "duration": 3.609966,
     "end_time": "2021-12-13T15:42:14.117171",
     "exception": false,
     "start_time": "2021-12-13T15:42:10.507205",
     "status": "completed"
    },
    "tags": []
   },
   "outputs": [],
   "source": [
    "for index, row in enumerate(df_matches['DATE']):\n",
    "    if int(row[6:10]) < currentYear:\n",
    "        df_matches.drop(index, axis=0, inplace=True)"
   ]
  },
  {
   "cell_type": "code",
   "execution_count": 8,
   "id": "64822497",
   "metadata": {
    "execution": {
     "iopub.execute_input": "2021-12-13T15:42:14.195614Z",
     "iopub.status.busy": "2021-12-13T15:42:14.194868Z",
     "iopub.status.idle": "2021-12-13T15:42:14.198716Z",
     "shell.execute_reply": "2021-12-13T15:42:14.198195Z",
     "shell.execute_reply.started": "2021-12-13T15:41:19.003423Z"
    },
    "papermill": {
     "duration": 0.048663,
     "end_time": "2021-12-13T15:42:14.198858",
     "exception": false,
     "start_time": "2021-12-13T15:42:14.150195",
     "status": "completed"
    },
    "tags": []
   },
   "outputs": [
    {
     "data": {
      "text/html": [
       "<div>\n",
       "<style scoped>\n",
       "    .dataframe tbody tr th:only-of-type {\n",
       "        vertical-align: middle;\n",
       "    }\n",
       "\n",
       "    .dataframe tbody tr th {\n",
       "        vertical-align: top;\n",
       "    }\n",
       "\n",
       "    .dataframe thead th {\n",
       "        text-align: right;\n",
       "    }\n",
       "</style>\n",
       "<table border=\"1\" class=\"dataframe\">\n",
       "  <thead>\n",
       "    <tr style=\"text-align: right;\">\n",
       "      <th></th>\n",
       "      <th>DATE</th>\n",
       "      <th>HOME-TEAM</th>\n",
       "      <th>SCORE</th>\n",
       "      <th>AWAY-TEAM</th>\n",
       "    </tr>\n",
       "  </thead>\n",
       "  <tbody>\n",
       "    <tr>\n",
       "      <th>7266</th>\n",
       "      <td>30/05/2021</td>\n",
       "      <td>Internacional/RS</td>\n",
       "      <td>2x2</td>\n",
       "      <td>Sport/PE</td>\n",
       "    </tr>\n",
       "    <tr>\n",
       "      <th>7267</th>\n",
       "      <td>30/05/2021</td>\n",
       "      <td>Atlético/PR</td>\n",
       "      <td>1x0</td>\n",
       "      <td>América/MG</td>\n",
       "    </tr>\n",
       "    <tr>\n",
       "      <th>7268</th>\n",
       "      <td>30/05/2021</td>\n",
       "      <td>Chapecoense/SC</td>\n",
       "      <td>0x3</td>\n",
       "      <td>Bragantino/SP</td>\n",
       "    </tr>\n",
       "    <tr>\n",
       "      <th>7269</th>\n",
       "      <td>30/05/2021</td>\n",
       "      <td>Corinthians/SP</td>\n",
       "      <td>0x1</td>\n",
       "      <td>Atlético/GO</td>\n",
       "    </tr>\n",
       "    <tr>\n",
       "      <th>7270</th>\n",
       "      <td>30/05/2021</td>\n",
       "      <td>Ceará/CE</td>\n",
       "      <td>3x2</td>\n",
       "      <td>Grêmio/RS</td>\n",
       "    </tr>\n",
       "  </tbody>\n",
       "</table>\n",
       "</div>"
      ],
      "text/plain": [
       "            DATE         HOME-TEAM SCORE      AWAY-TEAM\n",
       "7266  30/05/2021  Internacional/RS   2x2       Sport/PE\n",
       "7267  30/05/2021       Atlético/PR   1x0     América/MG\n",
       "7268  30/05/2021    Chapecoense/SC   0x3  Bragantino/SP\n",
       "7269  30/05/2021    Corinthians/SP   0x1    Atlético/GO\n",
       "7270  30/05/2021          Ceará/CE   3x2      Grêmio/RS"
      ]
     },
     "execution_count": 8,
     "metadata": {},
     "output_type": "execute_result"
    }
   ],
   "source": [
    "df_matches.head()"
   ]
  },
  {
   "cell_type": "code",
   "execution_count": 9,
   "id": "ee9f8a7d",
   "metadata": {
    "execution": {
     "iopub.execute_input": "2021-12-13T15:42:14.272455Z",
     "iopub.status.busy": "2021-12-13T15:42:14.271777Z",
     "iopub.status.idle": "2021-12-13T15:42:14.274704Z",
     "shell.execute_reply": "2021-12-13T15:42:14.274071Z",
     "shell.execute_reply.started": "2021-12-13T15:41:19.016163Z"
    },
    "papermill": {
     "duration": 0.042908,
     "end_time": "2021-12-13T15:42:14.274848",
     "exception": false,
     "start_time": "2021-12-13T15:42:14.231940",
     "status": "completed"
    },
    "tags": []
   },
   "outputs": [],
   "source": [
    "df_matches.drop(columns=['DATE'], inplace=True)"
   ]
  },
  {
   "cell_type": "code",
   "execution_count": 10,
   "id": "2aff77f3",
   "metadata": {
    "execution": {
     "iopub.execute_input": "2021-12-13T15:42:14.350955Z",
     "iopub.status.busy": "2021-12-13T15:42:14.350252Z",
     "iopub.status.idle": "2021-12-13T15:42:14.355088Z",
     "shell.execute_reply": "2021-12-13T15:42:14.354574Z",
     "shell.execute_reply.started": "2021-12-13T15:41:19.030390Z"
    },
    "papermill": {
     "duration": 0.047416,
     "end_time": "2021-12-13T15:42:14.355342",
     "exception": false,
     "start_time": "2021-12-13T15:42:14.307926",
     "status": "completed"
    },
    "tags": []
   },
   "outputs": [
    {
     "data": {
      "text/html": [
       "<div>\n",
       "<style scoped>\n",
       "    .dataframe tbody tr th:only-of-type {\n",
       "        vertical-align: middle;\n",
       "    }\n",
       "\n",
       "    .dataframe tbody tr th {\n",
       "        vertical-align: top;\n",
       "    }\n",
       "\n",
       "    .dataframe thead th {\n",
       "        text-align: right;\n",
       "    }\n",
       "</style>\n",
       "<table border=\"1\" class=\"dataframe\">\n",
       "  <thead>\n",
       "    <tr style=\"text-align: right;\">\n",
       "      <th></th>\n",
       "      <th>HOME-TEAM</th>\n",
       "      <th>SCORE</th>\n",
       "      <th>AWAY-TEAM</th>\n",
       "    </tr>\n",
       "  </thead>\n",
       "  <tbody>\n",
       "    <tr>\n",
       "      <th>7641</th>\n",
       "      <td>Grêmio/RS</td>\n",
       "      <td>4x3</td>\n",
       "      <td>Atlético/MG</td>\n",
       "    </tr>\n",
       "    <tr>\n",
       "      <th>7642</th>\n",
       "      <td>Fortaleza/CE</td>\n",
       "      <td>2x1</td>\n",
       "      <td>Bahia/BA</td>\n",
       "    </tr>\n",
       "    <tr>\n",
       "      <th>7643</th>\n",
       "      <td>Sport/PE</td>\n",
       "      <td>1x1</td>\n",
       "      <td>Atlético/PR</td>\n",
       "    </tr>\n",
       "    <tr>\n",
       "      <th>7644</th>\n",
       "      <td>Bragantino/SP</td>\n",
       "      <td>1x0</td>\n",
       "      <td>Internacional/RS</td>\n",
       "    </tr>\n",
       "    <tr>\n",
       "      <th>7645</th>\n",
       "      <td>Juventude/RS</td>\n",
       "      <td>1x0</td>\n",
       "      <td>Corinthians/SP</td>\n",
       "    </tr>\n",
       "  </tbody>\n",
       "</table>\n",
       "</div>"
      ],
      "text/plain": [
       "          HOME-TEAM SCORE         AWAY-TEAM\n",
       "7641      Grêmio/RS   4x3       Atlético/MG\n",
       "7642   Fortaleza/CE   2x1          Bahia/BA\n",
       "7643       Sport/PE   1x1       Atlético/PR\n",
       "7644  Bragantino/SP   1x0  Internacional/RS\n",
       "7645   Juventude/RS   1x0    Corinthians/SP"
      ]
     },
     "execution_count": 10,
     "metadata": {},
     "output_type": "execute_result"
    }
   ],
   "source": [
    "df_matches.tail()"
   ]
  },
  {
   "cell_type": "code",
   "execution_count": 11,
   "id": "1f96f009",
   "metadata": {
    "execution": {
     "iopub.execute_input": "2021-12-13T15:42:14.433988Z",
     "iopub.status.busy": "2021-12-13T15:42:14.433305Z",
     "iopub.status.idle": "2021-12-13T15:42:14.436271Z",
     "shell.execute_reply": "2021-12-13T15:42:14.436769Z",
     "shell.execute_reply.started": "2021-12-13T15:41:19.050183Z"
    },
    "papermill": {
     "duration": 0.045688,
     "end_time": "2021-12-13T15:42:14.436946",
     "exception": false,
     "start_time": "2021-12-13T15:42:14.391258",
     "status": "completed"
    },
    "tags": []
   },
   "outputs": [],
   "source": [
    "df_matches[['SCORE-HOME-TEAM', 'SCORE-AWAY-TEAM']] = df_matches['SCORE'].str.split('x', expand=True)"
   ]
  },
  {
   "cell_type": "code",
   "execution_count": 12,
   "id": "5b350e76",
   "metadata": {
    "execution": {
     "iopub.execute_input": "2021-12-13T15:42:14.517783Z",
     "iopub.status.busy": "2021-12-13T15:42:14.516914Z",
     "iopub.status.idle": "2021-12-13T15:42:14.520239Z",
     "shell.execute_reply": "2021-12-13T15:42:14.520723Z",
     "shell.execute_reply.started": "2021-12-13T15:41:19.061906Z"
    },
    "papermill": {
     "duration": 0.048762,
     "end_time": "2021-12-13T15:42:14.520886",
     "exception": false,
     "start_time": "2021-12-13T15:42:14.472124",
     "status": "completed"
    },
    "tags": []
   },
   "outputs": [
    {
     "data": {
      "text/html": [
       "<div>\n",
       "<style scoped>\n",
       "    .dataframe tbody tr th:only-of-type {\n",
       "        vertical-align: middle;\n",
       "    }\n",
       "\n",
       "    .dataframe tbody tr th {\n",
       "        vertical-align: top;\n",
       "    }\n",
       "\n",
       "    .dataframe thead th {\n",
       "        text-align: right;\n",
       "    }\n",
       "</style>\n",
       "<table border=\"1\" class=\"dataframe\">\n",
       "  <thead>\n",
       "    <tr style=\"text-align: right;\">\n",
       "      <th></th>\n",
       "      <th>HOME-TEAM</th>\n",
       "      <th>SCORE</th>\n",
       "      <th>AWAY-TEAM</th>\n",
       "      <th>SCORE-HOME-TEAM</th>\n",
       "      <th>SCORE-AWAY-TEAM</th>\n",
       "    </tr>\n",
       "  </thead>\n",
       "  <tbody>\n",
       "    <tr>\n",
       "      <th>7266</th>\n",
       "      <td>Internacional/RS</td>\n",
       "      <td>2x2</td>\n",
       "      <td>Sport/PE</td>\n",
       "      <td>2</td>\n",
       "      <td>2</td>\n",
       "    </tr>\n",
       "    <tr>\n",
       "      <th>7267</th>\n",
       "      <td>Atlético/PR</td>\n",
       "      <td>1x0</td>\n",
       "      <td>América/MG</td>\n",
       "      <td>1</td>\n",
       "      <td>0</td>\n",
       "    </tr>\n",
       "    <tr>\n",
       "      <th>7268</th>\n",
       "      <td>Chapecoense/SC</td>\n",
       "      <td>0x3</td>\n",
       "      <td>Bragantino/SP</td>\n",
       "      <td>0</td>\n",
       "      <td>3</td>\n",
       "    </tr>\n",
       "    <tr>\n",
       "      <th>7269</th>\n",
       "      <td>Corinthians/SP</td>\n",
       "      <td>0x1</td>\n",
       "      <td>Atlético/GO</td>\n",
       "      <td>0</td>\n",
       "      <td>1</td>\n",
       "    </tr>\n",
       "    <tr>\n",
       "      <th>7270</th>\n",
       "      <td>Ceará/CE</td>\n",
       "      <td>3x2</td>\n",
       "      <td>Grêmio/RS</td>\n",
       "      <td>3</td>\n",
       "      <td>2</td>\n",
       "    </tr>\n",
       "  </tbody>\n",
       "</table>\n",
       "</div>"
      ],
      "text/plain": [
       "             HOME-TEAM SCORE      AWAY-TEAM SCORE-HOME-TEAM SCORE-AWAY-TEAM\n",
       "7266  Internacional/RS   2x2       Sport/PE               2               2\n",
       "7267       Atlético/PR   1x0     América/MG               1               0\n",
       "7268    Chapecoense/SC   0x3  Bragantino/SP               0               3\n",
       "7269    Corinthians/SP   0x1    Atlético/GO               0               1\n",
       "7270          Ceará/CE   3x2      Grêmio/RS               3               2"
      ]
     },
     "execution_count": 12,
     "metadata": {},
     "output_type": "execute_result"
    }
   ],
   "source": [
    "df_matches.head()"
   ]
  },
  {
   "cell_type": "code",
   "execution_count": 13,
   "id": "08775e17",
   "metadata": {
    "execution": {
     "iopub.execute_input": "2021-12-13T15:42:14.599857Z",
     "iopub.status.busy": "2021-12-13T15:42:14.599018Z",
     "iopub.status.idle": "2021-12-13T15:42:14.602122Z",
     "shell.execute_reply": "2021-12-13T15:42:14.602656Z",
     "shell.execute_reply.started": "2021-12-13T15:41:19.077660Z"
    },
    "papermill": {
     "duration": 0.044405,
     "end_time": "2021-12-13T15:42:14.602827",
     "exception": false,
     "start_time": "2021-12-13T15:42:14.558422",
     "status": "completed"
    },
    "tags": []
   },
   "outputs": [],
   "source": [
    "win_home_team = np.where(df_matches['SCORE-HOME-TEAM'] > df_matches['SCORE-AWAY-TEAM'], 1, 0)\n",
    "df_matches['WIN-HOME-TEAM'] = win_home_team"
   ]
  },
  {
   "cell_type": "code",
   "execution_count": 14,
   "id": "173fac1e",
   "metadata": {
    "execution": {
     "iopub.execute_input": "2021-12-13T15:42:14.685272Z",
     "iopub.status.busy": "2021-12-13T15:42:14.684401Z",
     "iopub.status.idle": "2021-12-13T15:42:14.688943Z",
     "shell.execute_reply": "2021-12-13T15:42:14.688034Z",
     "shell.execute_reply.started": "2021-12-13T15:41:19.091265Z"
    },
    "papermill": {
     "duration": 0.05232,
     "end_time": "2021-12-13T15:42:14.689169",
     "exception": false,
     "start_time": "2021-12-13T15:42:14.636849",
     "status": "completed"
    },
    "tags": []
   },
   "outputs": [
    {
     "data": {
      "text/html": [
       "<div>\n",
       "<style scoped>\n",
       "    .dataframe tbody tr th:only-of-type {\n",
       "        vertical-align: middle;\n",
       "    }\n",
       "\n",
       "    .dataframe tbody tr th {\n",
       "        vertical-align: top;\n",
       "    }\n",
       "\n",
       "    .dataframe thead th {\n",
       "        text-align: right;\n",
       "    }\n",
       "</style>\n",
       "<table border=\"1\" class=\"dataframe\">\n",
       "  <thead>\n",
       "    <tr style=\"text-align: right;\">\n",
       "      <th></th>\n",
       "      <th>HOME-TEAM</th>\n",
       "      <th>SCORE</th>\n",
       "      <th>AWAY-TEAM</th>\n",
       "      <th>SCORE-HOME-TEAM</th>\n",
       "      <th>SCORE-AWAY-TEAM</th>\n",
       "      <th>WIN-HOME-TEAM</th>\n",
       "    </tr>\n",
       "  </thead>\n",
       "  <tbody>\n",
       "    <tr>\n",
       "      <th>7266</th>\n",
       "      <td>Internacional/RS</td>\n",
       "      <td>2x2</td>\n",
       "      <td>Sport/PE</td>\n",
       "      <td>2</td>\n",
       "      <td>2</td>\n",
       "      <td>0</td>\n",
       "    </tr>\n",
       "    <tr>\n",
       "      <th>7267</th>\n",
       "      <td>Atlético/PR</td>\n",
       "      <td>1x0</td>\n",
       "      <td>América/MG</td>\n",
       "      <td>1</td>\n",
       "      <td>0</td>\n",
       "      <td>1</td>\n",
       "    </tr>\n",
       "    <tr>\n",
       "      <th>7268</th>\n",
       "      <td>Chapecoense/SC</td>\n",
       "      <td>0x3</td>\n",
       "      <td>Bragantino/SP</td>\n",
       "      <td>0</td>\n",
       "      <td>3</td>\n",
       "      <td>0</td>\n",
       "    </tr>\n",
       "    <tr>\n",
       "      <th>7269</th>\n",
       "      <td>Corinthians/SP</td>\n",
       "      <td>0x1</td>\n",
       "      <td>Atlético/GO</td>\n",
       "      <td>0</td>\n",
       "      <td>1</td>\n",
       "      <td>0</td>\n",
       "    </tr>\n",
       "    <tr>\n",
       "      <th>7270</th>\n",
       "      <td>Ceará/CE</td>\n",
       "      <td>3x2</td>\n",
       "      <td>Grêmio/RS</td>\n",
       "      <td>3</td>\n",
       "      <td>2</td>\n",
       "      <td>1</td>\n",
       "    </tr>\n",
       "    <tr>\n",
       "      <th>7271</th>\n",
       "      <td>Flamengo/RJ</td>\n",
       "      <td>1x0</td>\n",
       "      <td>Palmeiras/SP</td>\n",
       "      <td>1</td>\n",
       "      <td>0</td>\n",
       "      <td>1</td>\n",
       "    </tr>\n",
       "    <tr>\n",
       "      <th>7272</th>\n",
       "      <td>Atlético/MG</td>\n",
       "      <td>1x2</td>\n",
       "      <td>Fortaleza/CE</td>\n",
       "      <td>1</td>\n",
       "      <td>2</td>\n",
       "      <td>0</td>\n",
       "    </tr>\n",
       "    <tr>\n",
       "      <th>7273</th>\n",
       "      <td>São Paulo/SP</td>\n",
       "      <td>0x0</td>\n",
       "      <td>Fluminense/RJ</td>\n",
       "      <td>0</td>\n",
       "      <td>0</td>\n",
       "      <td>0</td>\n",
       "    </tr>\n",
       "    <tr>\n",
       "      <th>7274</th>\n",
       "      <td>Bahia/BA</td>\n",
       "      <td>3x0</td>\n",
       "      <td>Santos/SP</td>\n",
       "      <td>3</td>\n",
       "      <td>0</td>\n",
       "      <td>1</td>\n",
       "    </tr>\n",
       "    <tr>\n",
       "      <th>7275</th>\n",
       "      <td>Cuiabá/MT</td>\n",
       "      <td>2x2</td>\n",
       "      <td>Juventude/RS</td>\n",
       "      <td>2</td>\n",
       "      <td>2</td>\n",
       "      <td>0</td>\n",
       "    </tr>\n",
       "  </tbody>\n",
       "</table>\n",
       "</div>"
      ],
      "text/plain": [
       "             HOME-TEAM SCORE      AWAY-TEAM SCORE-HOME-TEAM SCORE-AWAY-TEAM  \\\n",
       "7266  Internacional/RS   2x2       Sport/PE               2               2   \n",
       "7267       Atlético/PR   1x0     América/MG               1               0   \n",
       "7268    Chapecoense/SC   0x3  Bragantino/SP               0               3   \n",
       "7269    Corinthians/SP   0x1    Atlético/GO               0               1   \n",
       "7270          Ceará/CE   3x2      Grêmio/RS               3               2   \n",
       "7271       Flamengo/RJ   1x0   Palmeiras/SP               1               0   \n",
       "7272       Atlético/MG   1x2   Fortaleza/CE               1               2   \n",
       "7273      São Paulo/SP   0x0  Fluminense/RJ               0               0   \n",
       "7274          Bahia/BA   3x0      Santos/SP               3               0   \n",
       "7275         Cuiabá/MT   2x2   Juventude/RS               2               2   \n",
       "\n",
       "      WIN-HOME-TEAM  \n",
       "7266              0  \n",
       "7267              1  \n",
       "7268              0  \n",
       "7269              0  \n",
       "7270              1  \n",
       "7271              1  \n",
       "7272              0  \n",
       "7273              0  \n",
       "7274              1  \n",
       "7275              0  "
      ]
     },
     "execution_count": 14,
     "metadata": {},
     "output_type": "execute_result"
    }
   ],
   "source": [
    "df_matches.head(10)"
   ]
  },
  {
   "cell_type": "code",
   "execution_count": 15,
   "id": "2592ade7",
   "metadata": {
    "execution": {
     "iopub.execute_input": "2021-12-13T15:42:14.765271Z",
     "iopub.status.busy": "2021-12-13T15:42:14.764014Z",
     "iopub.status.idle": "2021-12-13T15:42:14.766092Z",
     "shell.execute_reply": "2021-12-13T15:42:14.766609Z",
     "shell.execute_reply.started": "2021-12-13T15:41:19.112862Z"
    },
    "papermill": {
     "duration": 0.042877,
     "end_time": "2021-12-13T15:42:14.766783",
     "exception": false,
     "start_time": "2021-12-13T15:42:14.723906",
     "status": "completed"
    },
    "tags": []
   },
   "outputs": [],
   "source": [
    "df_matches.drop(columns=['SCORE', 'SCORE-HOME-TEAM', 'SCORE-AWAY-TEAM'], inplace=True)"
   ]
  },
  {
   "cell_type": "code",
   "execution_count": 16,
   "id": "32e4a2e9",
   "metadata": {
    "execution": {
     "iopub.execute_input": "2021-12-13T15:42:14.848649Z",
     "iopub.status.busy": "2021-12-13T15:42:14.841823Z",
     "iopub.status.idle": "2021-12-13T15:42:14.851861Z",
     "shell.execute_reply": "2021-12-13T15:42:14.852466Z",
     "shell.execute_reply.started": "2021-12-13T15:41:19.119900Z"
    },
    "papermill": {
     "duration": 0.051391,
     "end_time": "2021-12-13T15:42:14.852663",
     "exception": false,
     "start_time": "2021-12-13T15:42:14.801272",
     "status": "completed"
    },
    "tags": []
   },
   "outputs": [
    {
     "data": {
      "text/html": [
       "<div>\n",
       "<style scoped>\n",
       "    .dataframe tbody tr th:only-of-type {\n",
       "        vertical-align: middle;\n",
       "    }\n",
       "\n",
       "    .dataframe tbody tr th {\n",
       "        vertical-align: top;\n",
       "    }\n",
       "\n",
       "    .dataframe thead th {\n",
       "        text-align: right;\n",
       "    }\n",
       "</style>\n",
       "<table border=\"1\" class=\"dataframe\">\n",
       "  <thead>\n",
       "    <tr style=\"text-align: right;\">\n",
       "      <th></th>\n",
       "      <th>HOME-TEAM</th>\n",
       "      <th>AWAY-TEAM</th>\n",
       "      <th>WIN-HOME-TEAM</th>\n",
       "    </tr>\n",
       "  </thead>\n",
       "  <tbody>\n",
       "    <tr>\n",
       "      <th>7266</th>\n",
       "      <td>Internacional/RS</td>\n",
       "      <td>Sport/PE</td>\n",
       "      <td>0</td>\n",
       "    </tr>\n",
       "    <tr>\n",
       "      <th>7267</th>\n",
       "      <td>Atlético/PR</td>\n",
       "      <td>América/MG</td>\n",
       "      <td>1</td>\n",
       "    </tr>\n",
       "    <tr>\n",
       "      <th>7268</th>\n",
       "      <td>Chapecoense/SC</td>\n",
       "      <td>Bragantino/SP</td>\n",
       "      <td>0</td>\n",
       "    </tr>\n",
       "    <tr>\n",
       "      <th>7269</th>\n",
       "      <td>Corinthians/SP</td>\n",
       "      <td>Atlético/GO</td>\n",
       "      <td>0</td>\n",
       "    </tr>\n",
       "    <tr>\n",
       "      <th>7270</th>\n",
       "      <td>Ceará/CE</td>\n",
       "      <td>Grêmio/RS</td>\n",
       "      <td>1</td>\n",
       "    </tr>\n",
       "    <tr>\n",
       "      <th>...</th>\n",
       "      <td>...</td>\n",
       "      <td>...</td>\n",
       "      <td>...</td>\n",
       "    </tr>\n",
       "    <tr>\n",
       "      <th>7641</th>\n",
       "      <td>Grêmio/RS</td>\n",
       "      <td>Atlético/MG</td>\n",
       "      <td>1</td>\n",
       "    </tr>\n",
       "    <tr>\n",
       "      <th>7642</th>\n",
       "      <td>Fortaleza/CE</td>\n",
       "      <td>Bahia/BA</td>\n",
       "      <td>1</td>\n",
       "    </tr>\n",
       "    <tr>\n",
       "      <th>7643</th>\n",
       "      <td>Sport/PE</td>\n",
       "      <td>Atlético/PR</td>\n",
       "      <td>0</td>\n",
       "    </tr>\n",
       "    <tr>\n",
       "      <th>7644</th>\n",
       "      <td>Bragantino/SP</td>\n",
       "      <td>Internacional/RS</td>\n",
       "      <td>1</td>\n",
       "    </tr>\n",
       "    <tr>\n",
       "      <th>7645</th>\n",
       "      <td>Juventude/RS</td>\n",
       "      <td>Corinthians/SP</td>\n",
       "      <td>1</td>\n",
       "    </tr>\n",
       "  </tbody>\n",
       "</table>\n",
       "<p>380 rows × 3 columns</p>\n",
       "</div>"
      ],
      "text/plain": [
       "             HOME-TEAM         AWAY-TEAM  WIN-HOME-TEAM\n",
       "7266  Internacional/RS          Sport/PE              0\n",
       "7267       Atlético/PR        América/MG              1\n",
       "7268    Chapecoense/SC     Bragantino/SP              0\n",
       "7269    Corinthians/SP       Atlético/GO              0\n",
       "7270          Ceará/CE         Grêmio/RS              1\n",
       "...                ...               ...            ...\n",
       "7641         Grêmio/RS       Atlético/MG              1\n",
       "7642      Fortaleza/CE          Bahia/BA              1\n",
       "7643          Sport/PE       Atlético/PR              0\n",
       "7644     Bragantino/SP  Internacional/RS              1\n",
       "7645      Juventude/RS    Corinthians/SP              1\n",
       "\n",
       "[380 rows x 3 columns]"
      ]
     },
     "execution_count": 16,
     "metadata": {},
     "output_type": "execute_result"
    }
   ],
   "source": [
    "df_matches"
   ]
  },
  {
   "cell_type": "code",
   "execution_count": 17,
   "id": "60048b1d",
   "metadata": {
    "execution": {
     "iopub.execute_input": "2021-12-13T15:42:14.929384Z",
     "iopub.status.busy": "2021-12-13T15:42:14.928759Z",
     "iopub.status.idle": "2021-12-13T15:42:14.930711Z",
     "shell.execute_reply": "2021-12-13T15:42:14.931293Z",
     "shell.execute_reply.started": "2021-12-13T15:41:19.140434Z"
    },
    "papermill": {
     "duration": 0.042845,
     "end_time": "2021-12-13T15:42:14.931460",
     "exception": false,
     "start_time": "2021-12-13T15:42:14.888615",
     "status": "completed"
    },
    "tags": []
   },
   "outputs": [],
   "source": [
    "df_matches.reset_index(drop=True, inplace=True)"
   ]
  },
  {
   "cell_type": "code",
   "execution_count": 18,
   "id": "468e4344",
   "metadata": {
    "execution": {
     "iopub.execute_input": "2021-12-13T15:42:15.009059Z",
     "iopub.status.busy": "2021-12-13T15:42:15.008320Z",
     "iopub.status.idle": "2021-12-13T15:42:16.052115Z",
     "shell.execute_reply": "2021-12-13T15:42:16.052833Z",
     "shell.execute_reply.started": "2021-12-13T15:41:19.153378Z"
    },
    "papermill": {
     "duration": 1.085627,
     "end_time": "2021-12-13T15:42:16.053032",
     "exception": false,
     "start_time": "2021-12-13T15:42:14.967405",
     "status": "completed"
    },
    "tags": []
   },
   "outputs": [],
   "source": [
    "from sklearn import preprocessing\n",
    "\n",
    "le = preprocessing.LabelEncoder()\n",
    "col_1 = df_matches['HOME-TEAM']\n",
    "set_col_1 = list(set(col_1))\n",
    "le.fit(col_1)\n",
    "dict_home_teams = dict(zip(set_col_1, le.transform(set_col_1)))"
   ]
  },
  {
   "cell_type": "code",
   "execution_count": 19,
   "id": "c6a67424",
   "metadata": {
    "execution": {
     "iopub.execute_input": "2021-12-13T15:42:16.130495Z",
     "iopub.status.busy": "2021-12-13T15:42:16.129851Z",
     "iopub.status.idle": "2021-12-13T15:42:16.134620Z",
     "shell.execute_reply": "2021-12-13T15:42:16.135196Z",
     "shell.execute_reply.started": "2021-12-13T15:41:19.168608Z"
    },
    "papermill": {
     "duration": 0.045185,
     "end_time": "2021-12-13T15:42:16.135366",
     "exception": false,
     "start_time": "2021-12-13T15:42:16.090181",
     "status": "completed"
    },
    "tags": []
   },
   "outputs": [],
   "source": [
    "df_home_teams_le = pd.DataFrame(dict_home_teams.items(), columns=['TEAM', 'LABEL-ENCODING'])"
   ]
  },
  {
   "cell_type": "code",
   "execution_count": 20,
   "id": "11e23c5c",
   "metadata": {
    "execution": {
     "iopub.execute_input": "2021-12-13T15:42:16.217174Z",
     "iopub.status.busy": "2021-12-13T15:42:16.216466Z",
     "iopub.status.idle": "2021-12-13T15:42:16.220021Z",
     "shell.execute_reply": "2021-12-13T15:42:16.219393Z",
     "shell.execute_reply.started": "2021-12-13T15:41:19.183067Z"
    },
    "papermill": {
     "duration": 0.048226,
     "end_time": "2021-12-13T15:42:16.220167",
     "exception": false,
     "start_time": "2021-12-13T15:42:16.171941",
     "status": "completed"
    },
    "tags": []
   },
   "outputs": [
    {
     "data": {
      "text/html": [
       "<div>\n",
       "<style scoped>\n",
       "    .dataframe tbody tr th:only-of-type {\n",
       "        vertical-align: middle;\n",
       "    }\n",
       "\n",
       "    .dataframe tbody tr th {\n",
       "        vertical-align: top;\n",
       "    }\n",
       "\n",
       "    .dataframe thead th {\n",
       "        text-align: right;\n",
       "    }\n",
       "</style>\n",
       "<table border=\"1\" class=\"dataframe\">\n",
       "  <thead>\n",
       "    <tr style=\"text-align: right;\">\n",
       "      <th></th>\n",
       "      <th>TEAM</th>\n",
       "      <th>LABEL-ENCODING</th>\n",
       "    </tr>\n",
       "  </thead>\n",
       "  <tbody>\n",
       "    <tr>\n",
       "      <th>0</th>\n",
       "      <td>Internacional/RS</td>\n",
       "      <td>14</td>\n",
       "    </tr>\n",
       "    <tr>\n",
       "      <th>1</th>\n",
       "      <td>Atlético/PR</td>\n",
       "      <td>3</td>\n",
       "    </tr>\n",
       "    <tr>\n",
       "      <th>2</th>\n",
       "      <td>Ceará/CE</td>\n",
       "      <td>6</td>\n",
       "    </tr>\n",
       "    <tr>\n",
       "      <th>3</th>\n",
       "      <td>Palmeiras/SP</td>\n",
       "      <td>16</td>\n",
       "    </tr>\n",
       "    <tr>\n",
       "      <th>4</th>\n",
       "      <td>Sport/PE</td>\n",
       "      <td>18</td>\n",
       "    </tr>\n",
       "    <tr>\n",
       "      <th>5</th>\n",
       "      <td>Fortaleza/CE</td>\n",
       "      <td>12</td>\n",
       "    </tr>\n",
       "    <tr>\n",
       "      <th>6</th>\n",
       "      <td>Cuiabá/MT</td>\n",
       "      <td>9</td>\n",
       "    </tr>\n",
       "    <tr>\n",
       "      <th>7</th>\n",
       "      <td>Juventude/RS</td>\n",
       "      <td>15</td>\n",
       "    </tr>\n",
       "    <tr>\n",
       "      <th>8</th>\n",
       "      <td>Fluminense/RJ</td>\n",
       "      <td>11</td>\n",
       "    </tr>\n",
       "    <tr>\n",
       "      <th>9</th>\n",
       "      <td>Corinthians/SP</td>\n",
       "      <td>8</td>\n",
       "    </tr>\n",
       "    <tr>\n",
       "      <th>10</th>\n",
       "      <td>Grêmio/RS</td>\n",
       "      <td>13</td>\n",
       "    </tr>\n",
       "    <tr>\n",
       "      <th>11</th>\n",
       "      <td>Atlético/MG</td>\n",
       "      <td>2</td>\n",
       "    </tr>\n",
       "    <tr>\n",
       "      <th>12</th>\n",
       "      <td>Atlético/GO</td>\n",
       "      <td>1</td>\n",
       "    </tr>\n",
       "    <tr>\n",
       "      <th>13</th>\n",
       "      <td>Bragantino/SP</td>\n",
       "      <td>5</td>\n",
       "    </tr>\n",
       "    <tr>\n",
       "      <th>14</th>\n",
       "      <td>São Paulo/SP</td>\n",
       "      <td>19</td>\n",
       "    </tr>\n",
       "    <tr>\n",
       "      <th>15</th>\n",
       "      <td>Chapecoense/SC</td>\n",
       "      <td>7</td>\n",
       "    </tr>\n",
       "    <tr>\n",
       "      <th>16</th>\n",
       "      <td>Santos/SP</td>\n",
       "      <td>17</td>\n",
       "    </tr>\n",
       "    <tr>\n",
       "      <th>17</th>\n",
       "      <td>Flamengo/RJ</td>\n",
       "      <td>10</td>\n",
       "    </tr>\n",
       "    <tr>\n",
       "      <th>18</th>\n",
       "      <td>Bahia/BA</td>\n",
       "      <td>4</td>\n",
       "    </tr>\n",
       "    <tr>\n",
       "      <th>19</th>\n",
       "      <td>América/MG</td>\n",
       "      <td>0</td>\n",
       "    </tr>\n",
       "  </tbody>\n",
       "</table>\n",
       "</div>"
      ],
      "text/plain": [
       "                TEAM  LABEL-ENCODING\n",
       "0   Internacional/RS              14\n",
       "1        Atlético/PR               3\n",
       "2           Ceará/CE               6\n",
       "3       Palmeiras/SP              16\n",
       "4           Sport/PE              18\n",
       "5       Fortaleza/CE              12\n",
       "6          Cuiabá/MT               9\n",
       "7       Juventude/RS              15\n",
       "8      Fluminense/RJ              11\n",
       "9     Corinthians/SP               8\n",
       "10         Grêmio/RS              13\n",
       "11       Atlético/MG               2\n",
       "12       Atlético/GO               1\n",
       "13     Bragantino/SP               5\n",
       "14      São Paulo/SP              19\n",
       "15    Chapecoense/SC               7\n",
       "16         Santos/SP              17\n",
       "17       Flamengo/RJ              10\n",
       "18          Bahia/BA               4\n",
       "19        América/MG               0"
      ]
     },
     "execution_count": 20,
     "metadata": {},
     "output_type": "execute_result"
    }
   ],
   "source": [
    "df_home_teams_le"
   ]
  },
  {
   "cell_type": "code",
   "execution_count": 21,
   "id": "5f905177",
   "metadata": {
    "execution": {
     "iopub.execute_input": "2021-12-13T15:42:16.298514Z",
     "iopub.status.busy": "2021-12-13T15:42:16.294841Z",
     "iopub.status.idle": "2021-12-13T15:42:16.301444Z",
     "shell.execute_reply": "2021-12-13T15:42:16.300812Z",
     "shell.execute_reply.started": "2021-12-13T15:41:19.204323Z"
    },
    "papermill": {
     "duration": 0.04497,
     "end_time": "2021-12-13T15:42:16.301597",
     "exception": false,
     "start_time": "2021-12-13T15:42:16.256627",
     "status": "completed"
    },
    "tags": []
   },
   "outputs": [],
   "source": [
    "le = preprocessing.LabelEncoder()\n",
    "col_2 = df_matches['AWAY-TEAM']\n",
    "set_col_2 = list(set(col_2))\n",
    "le.fit(col_2)\n",
    "dict_away_teams = dict(zip(set_col_2, le.transform(set_col_2)))"
   ]
  },
  {
   "cell_type": "code",
   "execution_count": 22,
   "id": "b8777fef",
   "metadata": {
    "execution": {
     "iopub.execute_input": "2021-12-13T15:42:16.381859Z",
     "iopub.status.busy": "2021-12-13T15:42:16.381217Z",
     "iopub.status.idle": "2021-12-13T15:42:16.383818Z",
     "shell.execute_reply": "2021-12-13T15:42:16.384301Z",
     "shell.execute_reply.started": "2021-12-13T15:41:19.215059Z"
    },
    "papermill": {
     "duration": 0.044588,
     "end_time": "2021-12-13T15:42:16.384476",
     "exception": false,
     "start_time": "2021-12-13T15:42:16.339888",
     "status": "completed"
    },
    "tags": []
   },
   "outputs": [],
   "source": [
    "df_away_teams_le = pd.DataFrame(dict_away_teams.items(), columns=['TEAM', 'LABEL-ENCODING'])"
   ]
  },
  {
   "cell_type": "code",
   "execution_count": 23,
   "id": "86037813",
   "metadata": {
    "execution": {
     "iopub.execute_input": "2021-12-13T15:42:16.467950Z",
     "iopub.status.busy": "2021-12-13T15:42:16.467298Z",
     "iopub.status.idle": "2021-12-13T15:42:16.471482Z",
     "shell.execute_reply": "2021-12-13T15:42:16.471942Z",
     "shell.execute_reply.started": "2021-12-13T15:41:19.229137Z"
    },
    "papermill": {
     "duration": 0.050225,
     "end_time": "2021-12-13T15:42:16.472121",
     "exception": false,
     "start_time": "2021-12-13T15:42:16.421896",
     "status": "completed"
    },
    "tags": []
   },
   "outputs": [
    {
     "data": {
      "text/html": [
       "<div>\n",
       "<style scoped>\n",
       "    .dataframe tbody tr th:only-of-type {\n",
       "        vertical-align: middle;\n",
       "    }\n",
       "\n",
       "    .dataframe tbody tr th {\n",
       "        vertical-align: top;\n",
       "    }\n",
       "\n",
       "    .dataframe thead th {\n",
       "        text-align: right;\n",
       "    }\n",
       "</style>\n",
       "<table border=\"1\" class=\"dataframe\">\n",
       "  <thead>\n",
       "    <tr style=\"text-align: right;\">\n",
       "      <th></th>\n",
       "      <th>TEAM</th>\n",
       "      <th>LABEL-ENCODING</th>\n",
       "    </tr>\n",
       "  </thead>\n",
       "  <tbody>\n",
       "    <tr>\n",
       "      <th>0</th>\n",
       "      <td>Internacional/RS</td>\n",
       "      <td>14</td>\n",
       "    </tr>\n",
       "    <tr>\n",
       "      <th>1</th>\n",
       "      <td>Atlético/PR</td>\n",
       "      <td>3</td>\n",
       "    </tr>\n",
       "    <tr>\n",
       "      <th>2</th>\n",
       "      <td>Ceará/CE</td>\n",
       "      <td>6</td>\n",
       "    </tr>\n",
       "    <tr>\n",
       "      <th>3</th>\n",
       "      <td>Palmeiras/SP</td>\n",
       "      <td>16</td>\n",
       "    </tr>\n",
       "    <tr>\n",
       "      <th>4</th>\n",
       "      <td>Sport/PE</td>\n",
       "      <td>18</td>\n",
       "    </tr>\n",
       "    <tr>\n",
       "      <th>5</th>\n",
       "      <td>Fortaleza/CE</td>\n",
       "      <td>12</td>\n",
       "    </tr>\n",
       "    <tr>\n",
       "      <th>6</th>\n",
       "      <td>Cuiabá/MT</td>\n",
       "      <td>9</td>\n",
       "    </tr>\n",
       "    <tr>\n",
       "      <th>7</th>\n",
       "      <td>Fluminense/RJ</td>\n",
       "      <td>11</td>\n",
       "    </tr>\n",
       "    <tr>\n",
       "      <th>8</th>\n",
       "      <td>Juventude/RS</td>\n",
       "      <td>15</td>\n",
       "    </tr>\n",
       "    <tr>\n",
       "      <th>9</th>\n",
       "      <td>Corinthians/SP</td>\n",
       "      <td>8</td>\n",
       "    </tr>\n",
       "    <tr>\n",
       "      <th>10</th>\n",
       "      <td>Grêmio/RS</td>\n",
       "      <td>13</td>\n",
       "    </tr>\n",
       "    <tr>\n",
       "      <th>11</th>\n",
       "      <td>Atlético/MG</td>\n",
       "      <td>2</td>\n",
       "    </tr>\n",
       "    <tr>\n",
       "      <th>12</th>\n",
       "      <td>Atlético/GO</td>\n",
       "      <td>1</td>\n",
       "    </tr>\n",
       "    <tr>\n",
       "      <th>13</th>\n",
       "      <td>Bragantino/SP</td>\n",
       "      <td>5</td>\n",
       "    </tr>\n",
       "    <tr>\n",
       "      <th>14</th>\n",
       "      <td>São Paulo/SP</td>\n",
       "      <td>19</td>\n",
       "    </tr>\n",
       "    <tr>\n",
       "      <th>15</th>\n",
       "      <td>Santos/SP</td>\n",
       "      <td>17</td>\n",
       "    </tr>\n",
       "    <tr>\n",
       "      <th>16</th>\n",
       "      <td>Chapecoense/SC</td>\n",
       "      <td>7</td>\n",
       "    </tr>\n",
       "    <tr>\n",
       "      <th>17</th>\n",
       "      <td>Flamengo/RJ</td>\n",
       "      <td>10</td>\n",
       "    </tr>\n",
       "    <tr>\n",
       "      <th>18</th>\n",
       "      <td>Bahia/BA</td>\n",
       "      <td>4</td>\n",
       "    </tr>\n",
       "    <tr>\n",
       "      <th>19</th>\n",
       "      <td>América/MG</td>\n",
       "      <td>0</td>\n",
       "    </tr>\n",
       "  </tbody>\n",
       "</table>\n",
       "</div>"
      ],
      "text/plain": [
       "                TEAM  LABEL-ENCODING\n",
       "0   Internacional/RS              14\n",
       "1        Atlético/PR               3\n",
       "2           Ceará/CE               6\n",
       "3       Palmeiras/SP              16\n",
       "4           Sport/PE              18\n",
       "5       Fortaleza/CE              12\n",
       "6          Cuiabá/MT               9\n",
       "7      Fluminense/RJ              11\n",
       "8       Juventude/RS              15\n",
       "9     Corinthians/SP               8\n",
       "10         Grêmio/RS              13\n",
       "11       Atlético/MG               2\n",
       "12       Atlético/GO               1\n",
       "13     Bragantino/SP               5\n",
       "14      São Paulo/SP              19\n",
       "15         Santos/SP              17\n",
       "16    Chapecoense/SC               7\n",
       "17       Flamengo/RJ              10\n",
       "18          Bahia/BA               4\n",
       "19        América/MG               0"
      ]
     },
     "execution_count": 23,
     "metadata": {},
     "output_type": "execute_result"
    }
   ],
   "source": [
    "df_away_teams_le"
   ]
  },
  {
   "cell_type": "code",
   "execution_count": 24,
   "id": "7bd7a6b4",
   "metadata": {
    "execution": {
     "iopub.execute_input": "2021-12-13T15:42:16.560056Z",
     "iopub.status.busy": "2021-12-13T15:42:16.559408Z",
     "iopub.status.idle": "2021-12-13T15:42:16.561695Z",
     "shell.execute_reply": "2021-12-13T15:42:16.561067Z",
     "shell.execute_reply.started": "2021-12-13T15:41:19.246407Z"
    },
    "papermill": {
     "duration": 0.05289,
     "end_time": "2021-12-13T15:42:16.561828",
     "exception": false,
     "start_time": "2021-12-13T15:42:16.508938",
     "status": "completed"
    },
    "tags": []
   },
   "outputs": [],
   "source": [
    "df_teams_le = df_home_teams_le.merge(df_away_teams_le, how='inner', on='TEAM')"
   ]
  },
  {
   "cell_type": "code",
   "execution_count": 25,
   "id": "f940cf25",
   "metadata": {
    "execution": {
     "iopub.execute_input": "2021-12-13T15:42:16.646221Z",
     "iopub.status.busy": "2021-12-13T15:42:16.645481Z",
     "iopub.status.idle": "2021-12-13T15:42:16.648860Z",
     "shell.execute_reply": "2021-12-13T15:42:16.648336Z",
     "shell.execute_reply.started": "2021-12-13T15:41:19.261327Z"
    },
    "papermill": {
     "duration": 0.051101,
     "end_time": "2021-12-13T15:42:16.649006",
     "exception": false,
     "start_time": "2021-12-13T15:42:16.597905",
     "status": "completed"
    },
    "tags": []
   },
   "outputs": [
    {
     "data": {
      "text/html": [
       "<div>\n",
       "<style scoped>\n",
       "    .dataframe tbody tr th:only-of-type {\n",
       "        vertical-align: middle;\n",
       "    }\n",
       "\n",
       "    .dataframe tbody tr th {\n",
       "        vertical-align: top;\n",
       "    }\n",
       "\n",
       "    .dataframe thead th {\n",
       "        text-align: right;\n",
       "    }\n",
       "</style>\n",
       "<table border=\"1\" class=\"dataframe\">\n",
       "  <thead>\n",
       "    <tr style=\"text-align: right;\">\n",
       "      <th></th>\n",
       "      <th>TEAM</th>\n",
       "      <th>LABEL-ENCODING_x</th>\n",
       "      <th>LABEL-ENCODING_y</th>\n",
       "    </tr>\n",
       "  </thead>\n",
       "  <tbody>\n",
       "    <tr>\n",
       "      <th>0</th>\n",
       "      <td>Internacional/RS</td>\n",
       "      <td>14</td>\n",
       "      <td>14</td>\n",
       "    </tr>\n",
       "    <tr>\n",
       "      <th>1</th>\n",
       "      <td>Atlético/PR</td>\n",
       "      <td>3</td>\n",
       "      <td>3</td>\n",
       "    </tr>\n",
       "    <tr>\n",
       "      <th>2</th>\n",
       "      <td>Ceará/CE</td>\n",
       "      <td>6</td>\n",
       "      <td>6</td>\n",
       "    </tr>\n",
       "    <tr>\n",
       "      <th>3</th>\n",
       "      <td>Palmeiras/SP</td>\n",
       "      <td>16</td>\n",
       "      <td>16</td>\n",
       "    </tr>\n",
       "    <tr>\n",
       "      <th>4</th>\n",
       "      <td>Sport/PE</td>\n",
       "      <td>18</td>\n",
       "      <td>18</td>\n",
       "    </tr>\n",
       "    <tr>\n",
       "      <th>5</th>\n",
       "      <td>Fortaleza/CE</td>\n",
       "      <td>12</td>\n",
       "      <td>12</td>\n",
       "    </tr>\n",
       "    <tr>\n",
       "      <th>6</th>\n",
       "      <td>Cuiabá/MT</td>\n",
       "      <td>9</td>\n",
       "      <td>9</td>\n",
       "    </tr>\n",
       "    <tr>\n",
       "      <th>7</th>\n",
       "      <td>Juventude/RS</td>\n",
       "      <td>15</td>\n",
       "      <td>15</td>\n",
       "    </tr>\n",
       "    <tr>\n",
       "      <th>8</th>\n",
       "      <td>Fluminense/RJ</td>\n",
       "      <td>11</td>\n",
       "      <td>11</td>\n",
       "    </tr>\n",
       "    <tr>\n",
       "      <th>9</th>\n",
       "      <td>Corinthians/SP</td>\n",
       "      <td>8</td>\n",
       "      <td>8</td>\n",
       "    </tr>\n",
       "    <tr>\n",
       "      <th>10</th>\n",
       "      <td>Grêmio/RS</td>\n",
       "      <td>13</td>\n",
       "      <td>13</td>\n",
       "    </tr>\n",
       "    <tr>\n",
       "      <th>11</th>\n",
       "      <td>Atlético/MG</td>\n",
       "      <td>2</td>\n",
       "      <td>2</td>\n",
       "    </tr>\n",
       "    <tr>\n",
       "      <th>12</th>\n",
       "      <td>Atlético/GO</td>\n",
       "      <td>1</td>\n",
       "      <td>1</td>\n",
       "    </tr>\n",
       "    <tr>\n",
       "      <th>13</th>\n",
       "      <td>Bragantino/SP</td>\n",
       "      <td>5</td>\n",
       "      <td>5</td>\n",
       "    </tr>\n",
       "    <tr>\n",
       "      <th>14</th>\n",
       "      <td>São Paulo/SP</td>\n",
       "      <td>19</td>\n",
       "      <td>19</td>\n",
       "    </tr>\n",
       "    <tr>\n",
       "      <th>15</th>\n",
       "      <td>Chapecoense/SC</td>\n",
       "      <td>7</td>\n",
       "      <td>7</td>\n",
       "    </tr>\n",
       "    <tr>\n",
       "      <th>16</th>\n",
       "      <td>Santos/SP</td>\n",
       "      <td>17</td>\n",
       "      <td>17</td>\n",
       "    </tr>\n",
       "    <tr>\n",
       "      <th>17</th>\n",
       "      <td>Flamengo/RJ</td>\n",
       "      <td>10</td>\n",
       "      <td>10</td>\n",
       "    </tr>\n",
       "    <tr>\n",
       "      <th>18</th>\n",
       "      <td>Bahia/BA</td>\n",
       "      <td>4</td>\n",
       "      <td>4</td>\n",
       "    </tr>\n",
       "    <tr>\n",
       "      <th>19</th>\n",
       "      <td>América/MG</td>\n",
       "      <td>0</td>\n",
       "      <td>0</td>\n",
       "    </tr>\n",
       "  </tbody>\n",
       "</table>\n",
       "</div>"
      ],
      "text/plain": [
       "                TEAM  LABEL-ENCODING_x  LABEL-ENCODING_y\n",
       "0   Internacional/RS                14                14\n",
       "1        Atlético/PR                 3                 3\n",
       "2           Ceará/CE                 6                 6\n",
       "3       Palmeiras/SP                16                16\n",
       "4           Sport/PE                18                18\n",
       "5       Fortaleza/CE                12                12\n",
       "6          Cuiabá/MT                 9                 9\n",
       "7       Juventude/RS                15                15\n",
       "8      Fluminense/RJ                11                11\n",
       "9     Corinthians/SP                 8                 8\n",
       "10         Grêmio/RS                13                13\n",
       "11       Atlético/MG                 2                 2\n",
       "12       Atlético/GO                 1                 1\n",
       "13     Bragantino/SP                 5                 5\n",
       "14      São Paulo/SP                19                19\n",
       "15    Chapecoense/SC                 7                 7\n",
       "16         Santos/SP                17                17\n",
       "17       Flamengo/RJ                10                10\n",
       "18          Bahia/BA                 4                 4\n",
       "19        América/MG                 0                 0"
      ]
     },
     "execution_count": 25,
     "metadata": {},
     "output_type": "execute_result"
    }
   ],
   "source": [
    "df_teams_le"
   ]
  },
  {
   "cell_type": "code",
   "execution_count": 26,
   "id": "cebcf7fb",
   "metadata": {
    "execution": {
     "iopub.execute_input": "2021-12-13T15:42:16.728821Z",
     "iopub.status.busy": "2021-12-13T15:42:16.728151Z",
     "iopub.status.idle": "2021-12-13T15:42:16.730425Z",
     "shell.execute_reply": "2021-12-13T15:42:16.729824Z",
     "shell.execute_reply.started": "2021-12-13T15:41:19.278414Z"
    },
    "papermill": {
     "duration": 0.044679,
     "end_time": "2021-12-13T15:42:16.730571",
     "exception": false,
     "start_time": "2021-12-13T15:42:16.685892",
     "status": "completed"
    },
    "tags": []
   },
   "outputs": [],
   "source": [
    "df_teams_le.drop(columns=['LABEL-ENCODING_y'], inplace=True)"
   ]
  },
  {
   "cell_type": "code",
   "execution_count": 27,
   "id": "23787a81",
   "metadata": {
    "execution": {
     "iopub.execute_input": "2021-12-13T15:42:16.809647Z",
     "iopub.status.busy": "2021-12-13T15:42:16.807116Z",
     "iopub.status.idle": "2021-12-13T15:42:16.811452Z",
     "shell.execute_reply": "2021-12-13T15:42:16.811990Z",
     "shell.execute_reply.started": "2021-12-13T15:41:19.287437Z"
    },
    "papermill": {
     "duration": 0.044569,
     "end_time": "2021-12-13T15:42:16.812153",
     "exception": false,
     "start_time": "2021-12-13T15:42:16.767584",
     "status": "completed"
    },
    "tags": []
   },
   "outputs": [],
   "source": [
    "df_teams_le.rename(columns={'LABEL-ENCODING_x': 'LABEL-ENCODING'}, inplace=True)"
   ]
  },
  {
   "cell_type": "code",
   "execution_count": 28,
   "id": "81f9f360",
   "metadata": {
    "execution": {
     "iopub.execute_input": "2021-12-13T15:42:16.888918Z",
     "iopub.status.busy": "2021-12-13T15:42:16.888287Z",
     "iopub.status.idle": "2021-12-13T15:42:16.896994Z",
     "shell.execute_reply": "2021-12-13T15:42:16.897471Z",
     "shell.execute_reply.started": "2021-12-13T15:41:19.299265Z"
    },
    "papermill": {
     "duration": 0.048682,
     "end_time": "2021-12-13T15:42:16.897655",
     "exception": false,
     "start_time": "2021-12-13T15:42:16.848973",
     "status": "completed"
    },
    "tags": []
   },
   "outputs": [
    {
     "data": {
      "text/html": [
       "<div>\n",
       "<style scoped>\n",
       "    .dataframe tbody tr th:only-of-type {\n",
       "        vertical-align: middle;\n",
       "    }\n",
       "\n",
       "    .dataframe tbody tr th {\n",
       "        vertical-align: top;\n",
       "    }\n",
       "\n",
       "    .dataframe thead th {\n",
       "        text-align: right;\n",
       "    }\n",
       "</style>\n",
       "<table border=\"1\" class=\"dataframe\">\n",
       "  <thead>\n",
       "    <tr style=\"text-align: right;\">\n",
       "      <th></th>\n",
       "      <th>TEAM</th>\n",
       "      <th>LABEL-ENCODING</th>\n",
       "    </tr>\n",
       "  </thead>\n",
       "  <tbody>\n",
       "    <tr>\n",
       "      <th>0</th>\n",
       "      <td>Internacional/RS</td>\n",
       "      <td>14</td>\n",
       "    </tr>\n",
       "    <tr>\n",
       "      <th>1</th>\n",
       "      <td>Atlético/PR</td>\n",
       "      <td>3</td>\n",
       "    </tr>\n",
       "    <tr>\n",
       "      <th>2</th>\n",
       "      <td>Ceará/CE</td>\n",
       "      <td>6</td>\n",
       "    </tr>\n",
       "    <tr>\n",
       "      <th>3</th>\n",
       "      <td>Palmeiras/SP</td>\n",
       "      <td>16</td>\n",
       "    </tr>\n",
       "    <tr>\n",
       "      <th>4</th>\n",
       "      <td>Sport/PE</td>\n",
       "      <td>18</td>\n",
       "    </tr>\n",
       "    <tr>\n",
       "      <th>5</th>\n",
       "      <td>Fortaleza/CE</td>\n",
       "      <td>12</td>\n",
       "    </tr>\n",
       "    <tr>\n",
       "      <th>6</th>\n",
       "      <td>Cuiabá/MT</td>\n",
       "      <td>9</td>\n",
       "    </tr>\n",
       "    <tr>\n",
       "      <th>7</th>\n",
       "      <td>Juventude/RS</td>\n",
       "      <td>15</td>\n",
       "    </tr>\n",
       "    <tr>\n",
       "      <th>8</th>\n",
       "      <td>Fluminense/RJ</td>\n",
       "      <td>11</td>\n",
       "    </tr>\n",
       "    <tr>\n",
       "      <th>9</th>\n",
       "      <td>Corinthians/SP</td>\n",
       "      <td>8</td>\n",
       "    </tr>\n",
       "    <tr>\n",
       "      <th>10</th>\n",
       "      <td>Grêmio/RS</td>\n",
       "      <td>13</td>\n",
       "    </tr>\n",
       "    <tr>\n",
       "      <th>11</th>\n",
       "      <td>Atlético/MG</td>\n",
       "      <td>2</td>\n",
       "    </tr>\n",
       "    <tr>\n",
       "      <th>12</th>\n",
       "      <td>Atlético/GO</td>\n",
       "      <td>1</td>\n",
       "    </tr>\n",
       "    <tr>\n",
       "      <th>13</th>\n",
       "      <td>Bragantino/SP</td>\n",
       "      <td>5</td>\n",
       "    </tr>\n",
       "    <tr>\n",
       "      <th>14</th>\n",
       "      <td>São Paulo/SP</td>\n",
       "      <td>19</td>\n",
       "    </tr>\n",
       "    <tr>\n",
       "      <th>15</th>\n",
       "      <td>Chapecoense/SC</td>\n",
       "      <td>7</td>\n",
       "    </tr>\n",
       "    <tr>\n",
       "      <th>16</th>\n",
       "      <td>Santos/SP</td>\n",
       "      <td>17</td>\n",
       "    </tr>\n",
       "    <tr>\n",
       "      <th>17</th>\n",
       "      <td>Flamengo/RJ</td>\n",
       "      <td>10</td>\n",
       "    </tr>\n",
       "    <tr>\n",
       "      <th>18</th>\n",
       "      <td>Bahia/BA</td>\n",
       "      <td>4</td>\n",
       "    </tr>\n",
       "    <tr>\n",
       "      <th>19</th>\n",
       "      <td>América/MG</td>\n",
       "      <td>0</td>\n",
       "    </tr>\n",
       "  </tbody>\n",
       "</table>\n",
       "</div>"
      ],
      "text/plain": [
       "                TEAM  LABEL-ENCODING\n",
       "0   Internacional/RS              14\n",
       "1        Atlético/PR               3\n",
       "2           Ceará/CE               6\n",
       "3       Palmeiras/SP              16\n",
       "4           Sport/PE              18\n",
       "5       Fortaleza/CE              12\n",
       "6          Cuiabá/MT               9\n",
       "7       Juventude/RS              15\n",
       "8      Fluminense/RJ              11\n",
       "9     Corinthians/SP               8\n",
       "10         Grêmio/RS              13\n",
       "11       Atlético/MG               2\n",
       "12       Atlético/GO               1\n",
       "13     Bragantino/SP               5\n",
       "14      São Paulo/SP              19\n",
       "15    Chapecoense/SC               7\n",
       "16         Santos/SP              17\n",
       "17       Flamengo/RJ              10\n",
       "18          Bahia/BA               4\n",
       "19        América/MG               0"
      ]
     },
     "execution_count": 28,
     "metadata": {},
     "output_type": "execute_result"
    }
   ],
   "source": [
    "df_teams_le"
   ]
  },
  {
   "cell_type": "code",
   "execution_count": 29,
   "id": "04342023",
   "metadata": {
    "execution": {
     "iopub.execute_input": "2021-12-13T15:42:16.977592Z",
     "iopub.status.busy": "2021-12-13T15:42:16.976937Z",
     "iopub.status.idle": "2021-12-13T15:42:16.992424Z",
     "shell.execute_reply": "2021-12-13T15:42:16.992907Z",
     "shell.execute_reply.started": "2021-12-13T15:41:19.318658Z"
    },
    "papermill": {
     "duration": 0.056376,
     "end_time": "2021-12-13T15:42:16.993083",
     "exception": false,
     "start_time": "2021-12-13T15:42:16.936707",
     "status": "completed"
    },
    "tags": []
   },
   "outputs": [],
   "source": [
    "for k, team in enumerate(df_teams_le['TEAM']):\n",
    "    df_matches.loc[df_matches['HOME-TEAM'] == team, 'HOME-TEAM'] =  df_teams_le['LABEL-ENCODING'].iloc[k]"
   ]
  },
  {
   "cell_type": "code",
   "execution_count": 30,
   "id": "b60388b8",
   "metadata": {
    "execution": {
     "iopub.execute_input": "2021-12-13T15:42:17.071012Z",
     "iopub.status.busy": "2021-12-13T15:42:17.070319Z",
     "iopub.status.idle": "2021-12-13T15:42:17.086612Z",
     "shell.execute_reply": "2021-12-13T15:42:17.087132Z",
     "shell.execute_reply.started": "2021-12-13T15:41:19.337596Z"
    },
    "papermill": {
     "duration": 0.056914,
     "end_time": "2021-12-13T15:42:17.087322",
     "exception": false,
     "start_time": "2021-12-13T15:42:17.030408",
     "status": "completed"
    },
    "tags": []
   },
   "outputs": [],
   "source": [
    "for k, team in enumerate(df_teams_le['TEAM']):\n",
    "    df_matches.loc[df_matches['AWAY-TEAM'] == team, 'AWAY-TEAM'] =  df_teams_le['LABEL-ENCODING'].iloc[k]"
   ]
  },
  {
   "cell_type": "code",
   "execution_count": 31,
   "id": "092445fd",
   "metadata": {
    "execution": {
     "iopub.execute_input": "2021-12-13T15:42:17.165692Z",
     "iopub.status.busy": "2021-12-13T15:42:17.165059Z",
     "iopub.status.idle": "2021-12-13T15:42:17.176346Z",
     "shell.execute_reply": "2021-12-13T15:42:17.175757Z",
     "shell.execute_reply.started": "2021-12-13T15:41:19.356651Z"
    },
    "papermill": {
     "duration": 0.051219,
     "end_time": "2021-12-13T15:42:17.176482",
     "exception": false,
     "start_time": "2021-12-13T15:42:17.125263",
     "status": "completed"
    },
    "tags": []
   },
   "outputs": [
    {
     "data": {
      "text/html": [
       "<div>\n",
       "<style scoped>\n",
       "    .dataframe tbody tr th:only-of-type {\n",
       "        vertical-align: middle;\n",
       "    }\n",
       "\n",
       "    .dataframe tbody tr th {\n",
       "        vertical-align: top;\n",
       "    }\n",
       "\n",
       "    .dataframe thead th {\n",
       "        text-align: right;\n",
       "    }\n",
       "</style>\n",
       "<table border=\"1\" class=\"dataframe\">\n",
       "  <thead>\n",
       "    <tr style=\"text-align: right;\">\n",
       "      <th></th>\n",
       "      <th>HOME-TEAM</th>\n",
       "      <th>AWAY-TEAM</th>\n",
       "      <th>WIN-HOME-TEAM</th>\n",
       "    </tr>\n",
       "  </thead>\n",
       "  <tbody>\n",
       "    <tr>\n",
       "      <th>0</th>\n",
       "      <td>14</td>\n",
       "      <td>18</td>\n",
       "      <td>0</td>\n",
       "    </tr>\n",
       "    <tr>\n",
       "      <th>1</th>\n",
       "      <td>3</td>\n",
       "      <td>0</td>\n",
       "      <td>1</td>\n",
       "    </tr>\n",
       "    <tr>\n",
       "      <th>2</th>\n",
       "      <td>7</td>\n",
       "      <td>5</td>\n",
       "      <td>0</td>\n",
       "    </tr>\n",
       "    <tr>\n",
       "      <th>3</th>\n",
       "      <td>8</td>\n",
       "      <td>1</td>\n",
       "      <td>0</td>\n",
       "    </tr>\n",
       "    <tr>\n",
       "      <th>4</th>\n",
       "      <td>6</td>\n",
       "      <td>13</td>\n",
       "      <td>1</td>\n",
       "    </tr>\n",
       "    <tr>\n",
       "      <th>...</th>\n",
       "      <td>...</td>\n",
       "      <td>...</td>\n",
       "      <td>...</td>\n",
       "    </tr>\n",
       "    <tr>\n",
       "      <th>375</th>\n",
       "      <td>13</td>\n",
       "      <td>2</td>\n",
       "      <td>1</td>\n",
       "    </tr>\n",
       "    <tr>\n",
       "      <th>376</th>\n",
       "      <td>12</td>\n",
       "      <td>4</td>\n",
       "      <td>1</td>\n",
       "    </tr>\n",
       "    <tr>\n",
       "      <th>377</th>\n",
       "      <td>18</td>\n",
       "      <td>3</td>\n",
       "      <td>0</td>\n",
       "    </tr>\n",
       "    <tr>\n",
       "      <th>378</th>\n",
       "      <td>5</td>\n",
       "      <td>14</td>\n",
       "      <td>1</td>\n",
       "    </tr>\n",
       "    <tr>\n",
       "      <th>379</th>\n",
       "      <td>15</td>\n",
       "      <td>8</td>\n",
       "      <td>1</td>\n",
       "    </tr>\n",
       "  </tbody>\n",
       "</table>\n",
       "<p>380 rows × 3 columns</p>\n",
       "</div>"
      ],
      "text/plain": [
       "    HOME-TEAM AWAY-TEAM  WIN-HOME-TEAM\n",
       "0          14        18              0\n",
       "1           3         0              1\n",
       "2           7         5              0\n",
       "3           8         1              0\n",
       "4           6        13              1\n",
       "..        ...       ...            ...\n",
       "375        13         2              1\n",
       "376        12         4              1\n",
       "377        18         3              0\n",
       "378         5        14              1\n",
       "379        15         8              1\n",
       "\n",
       "[380 rows x 3 columns]"
      ]
     },
     "metadata": {},
     "output_type": "display_data"
    }
   ],
   "source": [
    "display(df_matches)"
   ]
  },
  {
   "cell_type": "code",
   "execution_count": 32,
   "id": "7cd0526c",
   "metadata": {
    "execution": {
     "iopub.execute_input": "2021-12-13T15:42:17.259759Z",
     "iopub.status.busy": "2021-12-13T15:42:17.258697Z",
     "iopub.status.idle": "2021-12-13T15:42:17.260711Z",
     "shell.execute_reply": "2021-12-13T15:42:17.261228Z",
     "shell.execute_reply.started": "2021-12-13T15:41:19.378825Z"
    },
    "papermill": {
     "duration": 0.046844,
     "end_time": "2021-12-13T15:42:17.261390",
     "exception": false,
     "start_time": "2021-12-13T15:42:17.214546",
     "status": "completed"
    },
    "tags": []
   },
   "outputs": [],
   "source": [
    "# Predictors and target\n",
    "y = df_matches['WIN-HOME-TEAM']\n",
    "x = df_matches.drop('WIN-HOME-TEAM', axis = 1)"
   ]
  },
  {
   "cell_type": "code",
   "execution_count": 33,
   "id": "837117b5",
   "metadata": {
    "execution": {
     "iopub.execute_input": "2021-12-13T15:42:17.340696Z",
     "iopub.status.busy": "2021-12-13T15:42:17.339982Z",
     "iopub.status.idle": "2021-12-13T15:42:17.346282Z",
     "shell.execute_reply": "2021-12-13T15:42:17.345761Z",
     "shell.execute_reply.started": "2021-12-13T15:41:19.385047Z"
    },
    "papermill": {
     "duration": 0.047,
     "end_time": "2021-12-13T15:42:17.346426",
     "exception": false,
     "start_time": "2021-12-13T15:42:17.299426",
     "status": "completed"
    },
    "tags": []
   },
   "outputs": [
    {
     "data": {
      "text/plain": [
       "(380, 2)"
      ]
     },
     "execution_count": 33,
     "metadata": {},
     "output_type": "execute_result"
    }
   ],
   "source": [
    "x.shape"
   ]
  },
  {
   "cell_type": "code",
   "execution_count": 34,
   "id": "a999c271",
   "metadata": {
    "execution": {
     "iopub.execute_input": "2021-12-13T15:42:17.429070Z",
     "iopub.status.busy": "2021-12-13T15:42:17.428315Z",
     "iopub.status.idle": "2021-12-13T15:42:17.430905Z",
     "shell.execute_reply": "2021-12-13T15:42:17.431381Z",
     "shell.execute_reply.started": "2021-12-13T15:41:19.399431Z"
    },
    "papermill": {
     "duration": 0.046829,
     "end_time": "2021-12-13T15:42:17.431562",
     "exception": false,
     "start_time": "2021-12-13T15:42:17.384733",
     "status": "completed"
    },
    "tags": []
   },
   "outputs": [
    {
     "data": {
      "text/plain": [
       "(380,)"
      ]
     },
     "execution_count": 34,
     "metadata": {},
     "output_type": "execute_result"
    }
   ],
   "source": [
    "y.shape"
   ]
  },
  {
   "cell_type": "code",
   "execution_count": 35,
   "id": "eb807c16",
   "metadata": {
    "execution": {
     "iopub.execute_input": "2021-12-13T15:42:17.513819Z",
     "iopub.status.busy": "2021-12-13T15:42:17.513038Z",
     "iopub.status.idle": "2021-12-13T15:42:17.569465Z",
     "shell.execute_reply": "2021-12-13T15:42:17.568884Z",
     "shell.execute_reply.started": "2021-12-13T15:41:19.411560Z"
    },
    "papermill": {
     "duration": 0.099493,
     "end_time": "2021-12-13T15:42:17.569633",
     "exception": false,
     "start_time": "2021-12-13T15:42:17.470140",
     "status": "completed"
    },
    "tags": []
   },
   "outputs": [],
   "source": [
    "from sklearn.model_selection import train_test_split\n",
    "\n",
    "# Training and testing sets\n",
    "x_train, x_test, y_train, y_test = train_test_split(x, y, test_size = 0.3)"
   ]
  },
  {
   "cell_type": "code",
   "execution_count": 36,
   "id": "d8884b57",
   "metadata": {
    "execution": {
     "iopub.execute_input": "2021-12-13T15:42:17.653007Z",
     "iopub.status.busy": "2021-12-13T15:42:17.652309Z",
     "iopub.status.idle": "2021-12-13T15:42:18.018076Z",
     "shell.execute_reply": "2021-12-13T15:42:18.018601Z",
     "shell.execute_reply.started": "2021-12-13T15:41:19.423454Z"
    },
    "papermill": {
     "duration": 0.409386,
     "end_time": "2021-12-13T15:42:18.018786",
     "exception": false,
     "start_time": "2021-12-13T15:42:17.609400",
     "status": "completed"
    },
    "tags": []
   },
   "outputs": [
    {
     "name": "stdout",
     "output_type": "stream",
     "text": [
      "Precision: 0.5175438596491229\n"
     ]
    }
   ],
   "source": [
    "from sklearn.ensemble import ExtraTreesClassifier\n",
    "\n",
    "# Model\n",
    "model = ExtraTreesClassifier()\n",
    "model.fit(x_train, y_train)\n",
    "\n",
    "# Printing result\n",
    "result = model.score(x_test, y_test)\n",
    "print('Precision:', result)"
   ]
  },
  {
   "cell_type": "code",
   "execution_count": 37,
   "id": "415b635b",
   "metadata": {
    "execution": {
     "iopub.execute_input": "2021-12-13T15:42:18.102769Z",
     "iopub.status.busy": "2021-12-13T15:42:18.101985Z",
     "iopub.status.idle": "2021-12-13T15:42:18.107057Z",
     "shell.execute_reply": "2021-12-13T15:42:18.107673Z",
     "shell.execute_reply.started": "2021-12-13T15:41:19.560424Z"
    },
    "papermill": {
     "duration": 0.048542,
     "end_time": "2021-12-13T15:42:18.107847",
     "exception": false,
     "start_time": "2021-12-13T15:42:18.059305",
     "status": "completed"
    },
    "tags": []
   },
   "outputs": [
    {
     "data": {
      "text/plain": [
       "172    0\n",
       "145    1\n",
       "103    0\n",
       "94     1\n",
       "274    0\n",
       "Name: WIN-HOME-TEAM, dtype: int64"
      ]
     },
     "execution_count": 37,
     "metadata": {},
     "output_type": "execute_result"
    }
   ],
   "source": [
    "y_test[0:5]"
   ]
  },
  {
   "cell_type": "code",
   "execution_count": 38,
   "id": "31067438",
   "metadata": {
    "execution": {
     "iopub.execute_input": "2021-12-13T15:42:18.198861Z",
     "iopub.status.busy": "2021-12-13T15:42:18.198146Z",
     "iopub.status.idle": "2021-12-13T15:42:18.200830Z",
     "shell.execute_reply": "2021-12-13T15:42:18.201323Z",
     "shell.execute_reply.started": "2021-12-13T15:41:19.568930Z"
    },
    "papermill": {
     "duration": 0.051218,
     "end_time": "2021-12-13T15:42:18.201486",
     "exception": false,
     "start_time": "2021-12-13T15:42:18.150268",
     "status": "completed"
    },
    "tags": []
   },
   "outputs": [
    {
     "data": {
      "text/html": [
       "<div>\n",
       "<style scoped>\n",
       "    .dataframe tbody tr th:only-of-type {\n",
       "        vertical-align: middle;\n",
       "    }\n",
       "\n",
       "    .dataframe tbody tr th {\n",
       "        vertical-align: top;\n",
       "    }\n",
       "\n",
       "    .dataframe thead th {\n",
       "        text-align: right;\n",
       "    }\n",
       "</style>\n",
       "<table border=\"1\" class=\"dataframe\">\n",
       "  <thead>\n",
       "    <tr style=\"text-align: right;\">\n",
       "      <th></th>\n",
       "      <th>HOME-TEAM</th>\n",
       "      <th>AWAY-TEAM</th>\n",
       "    </tr>\n",
       "  </thead>\n",
       "  <tbody>\n",
       "    <tr>\n",
       "      <th>172</th>\n",
       "      <td>5</td>\n",
       "      <td>2</td>\n",
       "    </tr>\n",
       "    <tr>\n",
       "      <th>145</th>\n",
       "      <td>0</td>\n",
       "      <td>11</td>\n",
       "    </tr>\n",
       "    <tr>\n",
       "      <th>103</th>\n",
       "      <td>15</td>\n",
       "      <td>1</td>\n",
       "    </tr>\n",
       "    <tr>\n",
       "      <th>94</th>\n",
       "      <td>2</td>\n",
       "      <td>10</td>\n",
       "    </tr>\n",
       "    <tr>\n",
       "      <th>274</th>\n",
       "      <td>14</td>\n",
       "      <td>8</td>\n",
       "    </tr>\n",
       "  </tbody>\n",
       "</table>\n",
       "</div>"
      ],
      "text/plain": [
       "    HOME-TEAM AWAY-TEAM\n",
       "172         5         2\n",
       "145         0        11\n",
       "103        15         1\n",
       "94          2        10\n",
       "274        14         8"
      ]
     },
     "execution_count": 38,
     "metadata": {},
     "output_type": "execute_result"
    }
   ],
   "source": [
    "x_test[0:5]"
   ]
  },
  {
   "cell_type": "code",
   "execution_count": 39,
   "id": "6df3ac75",
   "metadata": {
    "execution": {
     "iopub.execute_input": "2021-12-13T15:42:18.284749Z",
     "iopub.status.busy": "2021-12-13T15:42:18.284084Z",
     "iopub.status.idle": "2021-12-13T15:42:18.298458Z",
     "shell.execute_reply": "2021-12-13T15:42:18.299057Z",
     "shell.execute_reply.started": "2021-12-13T15:41:19.588161Z"
    },
    "papermill": {
     "duration": 0.057547,
     "end_time": "2021-12-13T15:42:18.299228",
     "exception": false,
     "start_time": "2021-12-13T15:42:18.241681",
     "status": "completed"
    },
    "tags": []
   },
   "outputs": [],
   "source": [
    "prediction = model.predict(x_test[0:5])"
   ]
  },
  {
   "cell_type": "code",
   "execution_count": 40,
   "id": "39cef8c3",
   "metadata": {
    "execution": {
     "iopub.execute_input": "2021-12-13T15:42:18.387377Z",
     "iopub.status.busy": "2021-12-13T15:42:18.386599Z",
     "iopub.status.idle": "2021-12-13T15:42:18.389719Z",
     "shell.execute_reply": "2021-12-13T15:42:18.390213Z",
     "shell.execute_reply.started": "2021-12-13T15:41:19.611507Z"
    },
    "papermill": {
     "duration": 0.049664,
     "end_time": "2021-12-13T15:42:18.390375",
     "exception": false,
     "start_time": "2021-12-13T15:42:18.340711",
     "status": "completed"
    },
    "tags": []
   },
   "outputs": [
    {
     "data": {
      "text/plain": [
       "array([0, 1, 0, 1, 0])"
      ]
     },
     "execution_count": 40,
     "metadata": {},
     "output_type": "execute_result"
    }
   ],
   "source": [
    "prediction"
   ]
  }
 ],
 "metadata": {
  "kernelspec": {
   "display_name": "Python 3",
   "language": "python",
   "name": "python3"
  },
  "language_info": {
   "codemirror_mode": {
    "name": "ipython",
    "version": 3
   },
   "file_extension": ".py",
   "mimetype": "text/x-python",
   "name": "python",
   "nbconvert_exporter": "python",
   "pygments_lexer": "ipython3",
   "version": "3.7.12"
  },
  "papermill": {
   "default_parameters": {},
   "duration": 19.216461,
   "end_time": "2021-12-13T15:42:19.140869",
   "environment_variables": {},
   "exception": null,
   "input_path": "__notebook__.ipynb",
   "output_path": "__notebook__.ipynb",
   "parameters": {},
   "start_time": "2021-12-13T15:41:59.924408",
   "version": "2.3.3"
  }
 },
 "nbformat": 4,
 "nbformat_minor": 5
}
