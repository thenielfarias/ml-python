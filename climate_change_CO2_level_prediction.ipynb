{
  "nbformat": 4,
  "nbformat_minor": 0,
  "metadata": {
    "colab": {
      "name": "climate-change-CO2-level-prediction.ipynb",
      "provenance": []
    },
    "kernelspec": {
      "name": "python3",
      "display_name": "Python 3"
    },
    "language_info": {
      "name": "python"
    }
  },
  "cells": [
    {
      "cell_type": "code",
      "source": [
        "import numpy as np \n",
        "import pandas as pd\n",
        "from sklearn.ensemble import RandomForestRegressor\n",
        "import matplotlib.pyplot as plt\n",
        "from sklearn.model_selection import RandomizedSearchCV, train_test_split\n",
        "from sklearn.metrics import mean_absolute_error\n",
        "from sklearn.linear_model import LinearRegression"
      ],
      "metadata": {
        "id": "Kd4IVjnK1X3V"
      },
      "execution_count": 1,
      "outputs": []
    },
    {
      "cell_type": "code",
      "source": [
        "from google.colab import drive\n",
        "drive.mount('/content/drive')\n",
        "\n",
        "data = pd.read_excel('/content/drive/My Drive/Base de dados_ climate_change.xlsx')"
      ],
      "metadata": {
        "colab": {
          "base_uri": "https://localhost:8080/"
        },
        "id": "avrp9ZEO1Svr",
        "outputId": "56e6b6f1-0c04-4184-dd17-47981cd3b44d"
      },
      "execution_count": 2,
      "outputs": [
        {
          "output_type": "stream",
          "name": "stdout",
          "text": [
            "Drive already mounted at /content/drive; to attempt to forcibly remount, call drive.mount(\"/content/drive\", force_remount=True).\n"
          ]
        }
      ]
    },
    {
      "cell_type": "code",
      "source": [
        "data"
      ],
      "metadata": {
        "colab": {
          "base_uri": "https://localhost:8080/",
          "height": 424
        },
        "id": "F39ojYtQ1e1E",
        "outputId": "a3302202-f507-4056-ad86-772abb063e01"
      },
      "execution_count": 3,
      "outputs": [
        {
          "output_type": "execute_result",
          "data": {
            "text/plain": [
              "     Year  Month     CO2      CH4      N2O   Temp\n",
              "0    1983      5  345.96  1638.59  303.677  0.109\n",
              "1    1983      6  345.52  1633.71  303.746  0.118\n",
              "2    1983      7  344.15  1633.22  303.795  0.137\n",
              "3    1983      8  342.25  1631.35  303.839  0.176\n",
              "4    1983      9  340.17  1648.40  303.901  0.149\n",
              "..    ...    ...     ...      ...      ...    ...\n",
              "303  2008      8  384.15  1779.88  321.405  0.407\n",
              "304  2008      9  383.09  1795.08  321.529  0.378\n",
              "305  2008     10  382.99  1814.18  321.796  0.440\n",
              "306  2008     11  384.13  1812.37  322.013  0.394\n",
              "307  2008     12  385.56  1812.88  322.182  0.330\n",
              "\n",
              "[308 rows x 6 columns]"
            ],
            "text/html": [
              "\n",
              "  <div id=\"df-69858fab-572c-40ec-b684-66da4fdf8fdb\">\n",
              "    <div class=\"colab-df-container\">\n",
              "      <div>\n",
              "<style scoped>\n",
              "    .dataframe tbody tr th:only-of-type {\n",
              "        vertical-align: middle;\n",
              "    }\n",
              "\n",
              "    .dataframe tbody tr th {\n",
              "        vertical-align: top;\n",
              "    }\n",
              "\n",
              "    .dataframe thead th {\n",
              "        text-align: right;\n",
              "    }\n",
              "</style>\n",
              "<table border=\"1\" class=\"dataframe\">\n",
              "  <thead>\n",
              "    <tr style=\"text-align: right;\">\n",
              "      <th></th>\n",
              "      <th>Year</th>\n",
              "      <th>Month</th>\n",
              "      <th>CO2</th>\n",
              "      <th>CH4</th>\n",
              "      <th>N2O</th>\n",
              "      <th>Temp</th>\n",
              "    </tr>\n",
              "  </thead>\n",
              "  <tbody>\n",
              "    <tr>\n",
              "      <th>0</th>\n",
              "      <td>1983</td>\n",
              "      <td>5</td>\n",
              "      <td>345.96</td>\n",
              "      <td>1638.59</td>\n",
              "      <td>303.677</td>\n",
              "      <td>0.109</td>\n",
              "    </tr>\n",
              "    <tr>\n",
              "      <th>1</th>\n",
              "      <td>1983</td>\n",
              "      <td>6</td>\n",
              "      <td>345.52</td>\n",
              "      <td>1633.71</td>\n",
              "      <td>303.746</td>\n",
              "      <td>0.118</td>\n",
              "    </tr>\n",
              "    <tr>\n",
              "      <th>2</th>\n",
              "      <td>1983</td>\n",
              "      <td>7</td>\n",
              "      <td>344.15</td>\n",
              "      <td>1633.22</td>\n",
              "      <td>303.795</td>\n",
              "      <td>0.137</td>\n",
              "    </tr>\n",
              "    <tr>\n",
              "      <th>3</th>\n",
              "      <td>1983</td>\n",
              "      <td>8</td>\n",
              "      <td>342.25</td>\n",
              "      <td>1631.35</td>\n",
              "      <td>303.839</td>\n",
              "      <td>0.176</td>\n",
              "    </tr>\n",
              "    <tr>\n",
              "      <th>4</th>\n",
              "      <td>1983</td>\n",
              "      <td>9</td>\n",
              "      <td>340.17</td>\n",
              "      <td>1648.40</td>\n",
              "      <td>303.901</td>\n",
              "      <td>0.149</td>\n",
              "    </tr>\n",
              "    <tr>\n",
              "      <th>...</th>\n",
              "      <td>...</td>\n",
              "      <td>...</td>\n",
              "      <td>...</td>\n",
              "      <td>...</td>\n",
              "      <td>...</td>\n",
              "      <td>...</td>\n",
              "    </tr>\n",
              "    <tr>\n",
              "      <th>303</th>\n",
              "      <td>2008</td>\n",
              "      <td>8</td>\n",
              "      <td>384.15</td>\n",
              "      <td>1779.88</td>\n",
              "      <td>321.405</td>\n",
              "      <td>0.407</td>\n",
              "    </tr>\n",
              "    <tr>\n",
              "      <th>304</th>\n",
              "      <td>2008</td>\n",
              "      <td>9</td>\n",
              "      <td>383.09</td>\n",
              "      <td>1795.08</td>\n",
              "      <td>321.529</td>\n",
              "      <td>0.378</td>\n",
              "    </tr>\n",
              "    <tr>\n",
              "      <th>305</th>\n",
              "      <td>2008</td>\n",
              "      <td>10</td>\n",
              "      <td>382.99</td>\n",
              "      <td>1814.18</td>\n",
              "      <td>321.796</td>\n",
              "      <td>0.440</td>\n",
              "    </tr>\n",
              "    <tr>\n",
              "      <th>306</th>\n",
              "      <td>2008</td>\n",
              "      <td>11</td>\n",
              "      <td>384.13</td>\n",
              "      <td>1812.37</td>\n",
              "      <td>322.013</td>\n",
              "      <td>0.394</td>\n",
              "    </tr>\n",
              "    <tr>\n",
              "      <th>307</th>\n",
              "      <td>2008</td>\n",
              "      <td>12</td>\n",
              "      <td>385.56</td>\n",
              "      <td>1812.88</td>\n",
              "      <td>322.182</td>\n",
              "      <td>0.330</td>\n",
              "    </tr>\n",
              "  </tbody>\n",
              "</table>\n",
              "<p>308 rows × 6 columns</p>\n",
              "</div>\n",
              "      <button class=\"colab-df-convert\" onclick=\"convertToInteractive('df-69858fab-572c-40ec-b684-66da4fdf8fdb')\"\n",
              "              title=\"Convert this dataframe to an interactive table.\"\n",
              "              style=\"display:none;\">\n",
              "        \n",
              "  <svg xmlns=\"http://www.w3.org/2000/svg\" height=\"24px\"viewBox=\"0 0 24 24\"\n",
              "       width=\"24px\">\n",
              "    <path d=\"M0 0h24v24H0V0z\" fill=\"none\"/>\n",
              "    <path d=\"M18.56 5.44l.94 2.06.94-2.06 2.06-.94-2.06-.94-.94-2.06-.94 2.06-2.06.94zm-11 1L8.5 8.5l.94-2.06 2.06-.94-2.06-.94L8.5 2.5l-.94 2.06-2.06.94zm10 10l.94 2.06.94-2.06 2.06-.94-2.06-.94-.94-2.06-.94 2.06-2.06.94z\"/><path d=\"M17.41 7.96l-1.37-1.37c-.4-.4-.92-.59-1.43-.59-.52 0-1.04.2-1.43.59L10.3 9.45l-7.72 7.72c-.78.78-.78 2.05 0 2.83L4 21.41c.39.39.9.59 1.41.59.51 0 1.02-.2 1.41-.59l7.78-7.78 2.81-2.81c.8-.78.8-2.07 0-2.86zM5.41 20L4 18.59l7.72-7.72 1.47 1.35L5.41 20z\"/>\n",
              "  </svg>\n",
              "      </button>\n",
              "      \n",
              "  <style>\n",
              "    .colab-df-container {\n",
              "      display:flex;\n",
              "      flex-wrap:wrap;\n",
              "      gap: 12px;\n",
              "    }\n",
              "\n",
              "    .colab-df-convert {\n",
              "      background-color: #E8F0FE;\n",
              "      border: none;\n",
              "      border-radius: 50%;\n",
              "      cursor: pointer;\n",
              "      display: none;\n",
              "      fill: #1967D2;\n",
              "      height: 32px;\n",
              "      padding: 0 0 0 0;\n",
              "      width: 32px;\n",
              "    }\n",
              "\n",
              "    .colab-df-convert:hover {\n",
              "      background-color: #E2EBFA;\n",
              "      box-shadow: 0px 1px 2px rgba(60, 64, 67, 0.3), 0px 1px 3px 1px rgba(60, 64, 67, 0.15);\n",
              "      fill: #174EA6;\n",
              "    }\n",
              "\n",
              "    [theme=dark] .colab-df-convert {\n",
              "      background-color: #3B4455;\n",
              "      fill: #D2E3FC;\n",
              "    }\n",
              "\n",
              "    [theme=dark] .colab-df-convert:hover {\n",
              "      background-color: #434B5C;\n",
              "      box-shadow: 0px 1px 3px 1px rgba(0, 0, 0, 0.15);\n",
              "      filter: drop-shadow(0px 1px 2px rgba(0, 0, 0, 0.3));\n",
              "      fill: #FFFFFF;\n",
              "    }\n",
              "  </style>\n",
              "\n",
              "      <script>\n",
              "        const buttonEl =\n",
              "          document.querySelector('#df-69858fab-572c-40ec-b684-66da4fdf8fdb button.colab-df-convert');\n",
              "        buttonEl.style.display =\n",
              "          google.colab.kernel.accessAllowed ? 'block' : 'none';\n",
              "\n",
              "        async function convertToInteractive(key) {\n",
              "          const element = document.querySelector('#df-69858fab-572c-40ec-b684-66da4fdf8fdb');\n",
              "          const dataTable =\n",
              "            await google.colab.kernel.invokeFunction('convertToInteractive',\n",
              "                                                     [key], {});\n",
              "          if (!dataTable) return;\n",
              "\n",
              "          const docLinkHtml = 'Like what you see? Visit the ' +\n",
              "            '<a target=\"_blank\" href=https://colab.research.google.com/notebooks/data_table.ipynb>data table notebook</a>'\n",
              "            + ' to learn more about interactive tables.';\n",
              "          element.innerHTML = '';\n",
              "          dataTable['output_type'] = 'display_data';\n",
              "          await google.colab.output.renderOutput(dataTable, element);\n",
              "          const docLink = document.createElement('div');\n",
              "          docLink.innerHTML = docLinkHtml;\n",
              "          element.appendChild(docLink);\n",
              "        }\n",
              "      </script>\n",
              "    </div>\n",
              "  </div>\n",
              "  "
            ]
          },
          "metadata": {},
          "execution_count": 3
        }
      ]
    },
    {
      "cell_type": "code",
      "source": [
        "data.info()"
      ],
      "metadata": {
        "colab": {
          "base_uri": "https://localhost:8080/"
        },
        "id": "2AKjjK1A1i4m",
        "outputId": "f4958922-f5aa-4aa8-c59a-68917725a442"
      },
      "execution_count": 4,
      "outputs": [
        {
          "output_type": "stream",
          "name": "stdout",
          "text": [
            "<class 'pandas.core.frame.DataFrame'>\n",
            "RangeIndex: 308 entries, 0 to 307\n",
            "Data columns (total 6 columns):\n",
            " #   Column  Non-Null Count  Dtype  \n",
            "---  ------  --------------  -----  \n",
            " 0   Year    308 non-null    int64  \n",
            " 1   Month   308 non-null    int64  \n",
            " 2   CO2     308 non-null    float64\n",
            " 3   CH4     308 non-null    float64\n",
            " 4   N2O     308 non-null    float64\n",
            " 5   Temp    308 non-null    float64\n",
            "dtypes: float64(4), int64(2)\n",
            "memory usage: 14.6 KB\n"
          ]
        }
      ]
    },
    {
      "cell_type": "code",
      "source": [
        "data.isna().sum()"
      ],
      "metadata": {
        "colab": {
          "base_uri": "https://localhost:8080/"
        },
        "id": "fbQzHCEh1kKX",
        "outputId": "75511846-5e0b-4ad4-f2c3-0b1f89cbe5fd"
      },
      "execution_count": 5,
      "outputs": [
        {
          "output_type": "execute_result",
          "data": {
            "text/plain": [
              "Year     0\n",
              "Month    0\n",
              "CO2      0\n",
              "CH4      0\n",
              "N2O      0\n",
              "Temp     0\n",
              "dtype: int64"
            ]
          },
          "metadata": {},
          "execution_count": 5
        }
      ]
    },
    {
      "cell_type": "code",
      "source": [
        "plt.scatter(data['CO2'], data['Temp'])"
      ],
      "metadata": {
        "colab": {
          "base_uri": "https://localhost:8080/",
          "height": 282
        },
        "id": "QYkWiXEt1o9m",
        "outputId": "2564da46-d347-41d1-d600-53c6b4474533"
      },
      "execution_count": 6,
      "outputs": [
        {
          "output_type": "execute_result",
          "data": {
            "text/plain": [
              "<matplotlib.collections.PathCollection at 0x7f5bad8dd5d0>"
            ]
          },
          "metadata": {},
          "execution_count": 6
        },
        {
          "output_type": "display_data",
          "data": {
            "text/plain": [
              "<Figure size 432x288 with 1 Axes>"
            ],
            "image/png": "[encoded data removed]"
          },
          "metadata": {
            "needs_background": "light"
          }
        }
      ]
    },
    {
      "cell_type": "code",
      "source": [
        "plt.bar(data['Year'], data['Temp'])"
      ],
      "metadata": {
        "colab": {
          "base_uri": "https://localhost:8080/",
          "height": 282
        },
        "id": "Hin9nz-P11Wf",
        "outputId": "2e4ead0c-fb40-4951-96cc-f54823e70737"
      },
      "execution_count": 7,
      "outputs": [
        {
          "output_type": "execute_result",
          "data": {
            "text/plain": [
              "<BarContainer object of 308 artists>"
            ]
          },
          "metadata": {},
          "execution_count": 7
        },
        {
          "output_type": "display_data",
          "data": {
            "text/plain": [
              "<Figure size 432x288 with 1 Axes>"
            ],
            "image/png": "[encoded data removed]"
          },
          "metadata": {
            "needs_background": "light"
          }
        }
      ]
    },
    {
      "cell_type": "code",
      "source": [
        "plt.bar(data['Year'],data['CO2'])"
      ],
      "metadata": {
        "colab": {
          "base_uri": "https://localhost:8080/",
          "height": 282
        },
        "id": "KonKtM1Q11R-",
        "outputId": "e9ed9e30-699b-4425-93b6-8e7742ab6698"
      },
      "execution_count": 8,
      "outputs": [
        {
          "output_type": "execute_result",
          "data": {
            "text/plain": [
              "<BarContainer object of 308 artists>"
            ]
          },
          "metadata": {},
          "execution_count": 8
        },
        {
          "output_type": "display_data",
          "data": {
            "text/plain": [
              "<Figure size 432x288 with 1 Axes>"
            ],
            "image/png": "[encoded data removed]"
          },
          "metadata": {
            "needs_background": "light"
          }
        }
      ]
    },
    {
      "cell_type": "code",
      "source": [
        "data.describe()"
      ],
      "metadata": {
        "colab": {
          "base_uri": "https://localhost:8080/",
          "height": 300
        },
        "id": "rHTtbk1T2JTK",
        "outputId": "7f34e1df-136d-46af-dca5-2965e2b4b137"
      },
      "execution_count": 9,
      "outputs": [
        {
          "output_type": "execute_result",
          "data": {
            "text/plain": [
              "              Year       Month         CO2          CH4         N2O  \\\n",
              "count   308.000000  308.000000  308.000000   308.000000  308.000000   \n",
              "mean   1995.662338    6.551948  363.226753  1749.824513  312.391834   \n",
              "std       7.423197    3.447214   12.647125    46.051678    5.225131   \n",
              "min    1983.000000    1.000000  340.170000  1629.890000  303.677000   \n",
              "25%    1989.000000    4.000000  353.020000  1722.182500  308.111500   \n",
              "50%    1996.000000    7.000000  361.735000  1764.040000  311.507000   \n",
              "75%    2002.000000   10.000000  373.455000  1786.885000  316.979000   \n",
              "max    2008.000000   12.000000  388.500000  1814.180000  322.182000   \n",
              "\n",
              "             Temp  \n",
              "count  308.000000  \n",
              "mean     0.256776  \n",
              "std      0.179090  \n",
              "min     -0.282000  \n",
              "25%      0.121750  \n",
              "50%      0.248000  \n",
              "75%      0.407250  \n",
              "max      0.739000  "
            ],
            "text/html": [
              "\n",
              "  <div id=\"df-8fb430e9-fc5e-4fe7-8c8b-f6cfa45079d5\">\n",
              "    <div class=\"colab-df-container\">\n",
              "      <div>\n",
              "<style scoped>\n",
              "    .dataframe tbody tr th:only-of-type {\n",
              "        vertical-align: middle;\n",
              "    }\n",
              "\n",
              "    .dataframe tbody tr th {\n",
              "        vertical-align: top;\n",
              "    }\n",
              "\n",
              "    .dataframe thead th {\n",
              "        text-align: right;\n",
              "    }\n",
              "</style>\n",
              "<table border=\"1\" class=\"dataframe\">\n",
              "  <thead>\n",
              "    <tr style=\"text-align: right;\">\n",
              "      <th></th>\n",
              "      <th>Year</th>\n",
              "      <th>Month</th>\n",
              "      <th>CO2</th>\n",
              "      <th>CH4</th>\n",
              "      <th>N2O</th>\n",
              "      <th>Temp</th>\n",
              "    </tr>\n",
              "  </thead>\n",
              "  <tbody>\n",
              "    <tr>\n",
              "      <th>count</th>\n",
              "      <td>308.000000</td>\n",
              "      <td>308.000000</td>\n",
              "      <td>308.000000</td>\n",
              "      <td>308.000000</td>\n",
              "      <td>308.000000</td>\n",
              "      <td>308.000000</td>\n",
              "    </tr>\n",
              "    <tr>\n",
              "      <th>mean</th>\n",
              "      <td>1995.662338</td>\n",
              "      <td>6.551948</td>\n",
              "      <td>363.226753</td>\n",
              "      <td>1749.824513</td>\n",
              "      <td>312.391834</td>\n",
              "      <td>0.256776</td>\n",
              "    </tr>\n",
              "    <tr>\n",
              "      <th>std</th>\n",
              "      <td>7.423197</td>\n",
              "      <td>3.447214</td>\n",
              "      <td>12.647125</td>\n",
              "      <td>46.051678</td>\n",
              "      <td>5.225131</td>\n",
              "      <td>0.179090</td>\n",
              "    </tr>\n",
              "    <tr>\n",
              "      <th>min</th>\n",
              "      <td>1983.000000</td>\n",
              "      <td>1.000000</td>\n",
              "      <td>340.170000</td>\n",
              "      <td>1629.890000</td>\n",
              "      <td>303.677000</td>\n",
              "      <td>-0.282000</td>\n",
              "    </tr>\n",
              "    <tr>\n",
              "      <th>25%</th>\n",
              "      <td>1989.000000</td>\n",
              "      <td>4.000000</td>\n",
              "      <td>353.020000</td>\n",
              "      <td>1722.182500</td>\n",
              "      <td>308.111500</td>\n",
              "      <td>0.121750</td>\n",
              "    </tr>\n",
              "    <tr>\n",
              "      <th>50%</th>\n",
              "      <td>1996.000000</td>\n",
              "      <td>7.000000</td>\n",
              "      <td>361.735000</td>\n",
              "      <td>1764.040000</td>\n",
              "      <td>311.507000</td>\n",
              "      <td>0.248000</td>\n",
              "    </tr>\n",
              "    <tr>\n",
              "      <th>75%</th>\n",
              "      <td>2002.000000</td>\n",
              "      <td>10.000000</td>\n",
              "      <td>373.455000</td>\n",
              "      <td>1786.885000</td>\n",
              "      <td>316.979000</td>\n",
              "      <td>0.407250</td>\n",
              "    </tr>\n",
              "    <tr>\n",
              "      <th>max</th>\n",
              "      <td>2008.000000</td>\n",
              "      <td>12.000000</td>\n",
              "      <td>388.500000</td>\n",
              "      <td>1814.180000</td>\n",
              "      <td>322.182000</td>\n",
              "      <td>0.739000</td>\n",
              "    </tr>\n",
              "  </tbody>\n",
              "</table>\n",
              "</div>\n",
              "      <button class=\"colab-df-convert\" onclick=\"convertToInteractive('df-8fb430e9-fc5e-4fe7-8c8b-f6cfa45079d5')\"\n",
              "              title=\"Convert this dataframe to an interactive table.\"\n",
              "              style=\"display:none;\">\n",
              "        \n",
              "  <svg xmlns=\"http://www.w3.org/2000/svg\" height=\"24px\"viewBox=\"0 0 24 24\"\n",
              "       width=\"24px\">\n",
              "    <path d=\"M0 0h24v24H0V0z\" fill=\"none\"/>\n",
              "    <path d=\"M18.56 5.44l.94 2.06.94-2.06 2.06-.94-2.06-.94-.94-2.06-.94 2.06-2.06.94zm-11 1L8.5 8.5l.94-2.06 2.06-.94-2.06-.94L8.5 2.5l-.94 2.06-2.06.94zm10 10l.94 2.06.94-2.06 2.06-.94-2.06-.94-.94-2.06-.94 2.06-2.06.94z\"/><path d=\"M17.41 7.96l-1.37-1.37c-.4-.4-.92-.59-1.43-.59-.52 0-1.04.2-1.43.59L10.3 9.45l-7.72 7.72c-.78.78-.78 2.05 0 2.83L4 21.41c.39.39.9.59 1.41.59.51 0 1.02-.2 1.41-.59l7.78-7.78 2.81-2.81c.8-.78.8-2.07 0-2.86zM5.41 20L4 18.59l7.72-7.72 1.47 1.35L5.41 20z\"/>\n",
              "  </svg>\n",
              "      </button>\n",
              "      \n",
              "  <style>\n",
              "    .colab-df-container {\n",
              "      display:flex;\n",
              "      flex-wrap:wrap;\n",
              "      gap: 12px;\n",
              "    }\n",
              "\n",
              "    .colab-df-convert {\n",
              "      background-color: #E8F0FE;\n",
              "      border: none;\n",
              "      border-radius: 50%;\n",
              "      cursor: pointer;\n",
              "      display: none;\n",
              "      fill: #1967D2;\n",
              "      height: 32px;\n",
              "      padding: 0 0 0 0;\n",
              "      width: 32px;\n",
              "    }\n",
              "\n",
              "    .colab-df-convert:hover {\n",
              "      background-color: #E2EBFA;\n",
              "      box-shadow: 0px 1px 2px rgba(60, 64, 67, 0.3), 0px 1px 3px 1px rgba(60, 64, 67, 0.15);\n",
              "      fill: #174EA6;\n",
              "    }\n",
              "\n",
              "    [theme=dark] .colab-df-convert {\n",
              "      background-color: #3B4455;\n",
              "      fill: #D2E3FC;\n",
              "    }\n",
              "\n",
              "    [theme=dark] .colab-df-convert:hover {\n",
              "      background-color: #434B5C;\n",
              "      box-shadow: 0px 1px 3px 1px rgba(0, 0, 0, 0.15);\n",
              "      filter: drop-shadow(0px 1px 2px rgba(0, 0, 0, 0.3));\n",
              "      fill: #FFFFFF;\n",
              "    }\n",
              "  </style>\n",
              "\n",
              "      <script>\n",
              "        const buttonEl =\n",
              "          document.querySelector('#df-8fb430e9-fc5e-4fe7-8c8b-f6cfa45079d5 button.colab-df-convert');\n",
              "        buttonEl.style.display =\n",
              "          google.colab.kernel.accessAllowed ? 'block' : 'none';\n",
              "\n",
              "        async function convertToInteractive(key) {\n",
              "          const element = document.querySelector('#df-8fb430e9-fc5e-4fe7-8c8b-f6cfa45079d5');\n",
              "          const dataTable =\n",
              "            await google.colab.kernel.invokeFunction('convertToInteractive',\n",
              "                                                     [key], {});\n",
              "          if (!dataTable) return;\n",
              "\n",
              "          const docLinkHtml = 'Like what you see? Visit the ' +\n",
              "            '<a target=\"_blank\" href=https://colab.research.google.com/notebooks/data_table.ipynb>data table notebook</a>'\n",
              "            + ' to learn more about interactive tables.';\n",
              "          element.innerHTML = '';\n",
              "          dataTable['output_type'] = 'display_data';\n",
              "          await google.colab.output.renderOutput(dataTable, element);\n",
              "          const docLink = document.createElement('div');\n",
              "          docLink.innerHTML = docLinkHtml;\n",
              "          element.appendChild(docLink);\n",
              "        }\n",
              "      </script>\n",
              "    </div>\n",
              "  </div>\n",
              "  "
            ]
          },
          "metadata": {},
          "execution_count": 9
        }
      ]
    },
    {
      "cell_type": "code",
      "source": [
        "data.corr()"
      ],
      "metadata": {
        "colab": {
          "base_uri": "https://localhost:8080/",
          "height": 238
        },
        "id": "hozrQBzc2K33",
        "outputId": "88f61829-ee93-4161-f114-a9203e3d34fc"
      },
      "execution_count": 10,
      "outputs": [
        {
          "output_type": "execute_result",
          "data": {
            "text/plain": [
              "           Year     Month       CO2       CH4       N2O      Temp\n",
              "Year   1.000000 -0.025789  0.985379  0.910563  0.994850  0.755731\n",
              "Month -0.025789  1.000000 -0.096287  0.017558  0.012395 -0.098016\n",
              "CO2    0.985379 -0.096287  1.000000  0.872253  0.981135  0.748505\n",
              "CH4    0.910563  0.017558  0.872253  1.000000  0.894409  0.699697\n",
              "N2O    0.994850  0.012395  0.981135  0.894409  1.000000  0.743242\n",
              "Temp   0.755731 -0.098016  0.748505  0.699697  0.743242  1.000000"
            ],
            "text/html": [
              "\n",
              "  <div id=\"df-3a27d65c-9a16-4968-ba3a-01b5584e40ea\">\n",
              "    <div class=\"colab-df-container\">\n",
              "      <div>\n",
              "<style scoped>\n",
              "    .dataframe tbody tr th:only-of-type {\n",
              "        vertical-align: middle;\n",
              "    }\n",
              "\n",
              "    .dataframe tbody tr th {\n",
              "        vertical-align: top;\n",
              "    }\n",
              "\n",
              "    .dataframe thead th {\n",
              "        text-align: right;\n",
              "    }\n",
              "</style>\n",
              "<table border=\"1\" class=\"dataframe\">\n",
              "  <thead>\n",
              "    <tr style=\"text-align: right;\">\n",
              "      <th></th>\n",
              "      <th>Year</th>\n",
              "      <th>Month</th>\n",
              "      <th>CO2</th>\n",
              "      <th>CH4</th>\n",
              "      <th>N2O</th>\n",
              "      <th>Temp</th>\n",
              "    </tr>\n",
              "  </thead>\n",
              "  <tbody>\n",
              "    <tr>\n",
              "      <th>Year</th>\n",
              "      <td>1.000000</td>\n",
              "      <td>-0.025789</td>\n",
              "      <td>0.985379</td>\n",
              "      <td>0.910563</td>\n",
              "      <td>0.994850</td>\n",
              "      <td>0.755731</td>\n",
              "    </tr>\n",
              "    <tr>\n",
              "      <th>Month</th>\n",
              "      <td>-0.025789</td>\n",
              "      <td>1.000000</td>\n",
              "      <td>-0.096287</td>\n",
              "      <td>0.017558</td>\n",
              "      <td>0.012395</td>\n",
              "      <td>-0.098016</td>\n",
              "    </tr>\n",
              "    <tr>\n",
              "      <th>CO2</th>\n",
              "      <td>0.985379</td>\n",
              "      <td>-0.096287</td>\n",
              "      <td>1.000000</td>\n",
              "      <td>0.872253</td>\n",
              "      <td>0.981135</td>\n",
              "      <td>0.748505</td>\n",
              "    </tr>\n",
              "    <tr>\n",
              "      <th>CH4</th>\n",
              "      <td>0.910563</td>\n",
              "      <td>0.017558</td>\n",
              "      <td>0.872253</td>\n",
              "      <td>1.000000</td>\n",
              "      <td>0.894409</td>\n",
              "      <td>0.699697</td>\n",
              "    </tr>\n",
              "    <tr>\n",
              "      <th>N2O</th>\n",
              "      <td>0.994850</td>\n",
              "      <td>0.012395</td>\n",
              "      <td>0.981135</td>\n",
              "      <td>0.894409</td>\n",
              "      <td>1.000000</td>\n",
              "      <td>0.743242</td>\n",
              "    </tr>\n",
              "    <tr>\n",
              "      <th>Temp</th>\n",
              "      <td>0.755731</td>\n",
              "      <td>-0.098016</td>\n",
              "      <td>0.748505</td>\n",
              "      <td>0.699697</td>\n",
              "      <td>0.743242</td>\n",
              "      <td>1.000000</td>\n",
              "    </tr>\n",
              "  </tbody>\n",
              "</table>\n",
              "</div>\n",
              "      <button class=\"colab-df-convert\" onclick=\"convertToInteractive('df-3a27d65c-9a16-4968-ba3a-01b5584e40ea')\"\n",
              "              title=\"Convert this dataframe to an interactive table.\"\n",
              "              style=\"display:none;\">\n",
              "        \n",
              "  <svg xmlns=\"http://www.w3.org/2000/svg\" height=\"24px\"viewBox=\"0 0 24 24\"\n",
              "       width=\"24px\">\n",
              "    <path d=\"M0 0h24v24H0V0z\" fill=\"none\"/>\n",
              "    <path d=\"M18.56 5.44l.94 2.06.94-2.06 2.06-.94-2.06-.94-.94-2.06-.94 2.06-2.06.94zm-11 1L8.5 8.5l.94-2.06 2.06-.94-2.06-.94L8.5 2.5l-.94 2.06-2.06.94zm10 10l.94 2.06.94-2.06 2.06-.94-2.06-.94-.94-2.06-.94 2.06-2.06.94z\"/><path d=\"M17.41 7.96l-1.37-1.37c-.4-.4-.92-.59-1.43-.59-.52 0-1.04.2-1.43.59L10.3 9.45l-7.72 7.72c-.78.78-.78 2.05 0 2.83L4 21.41c.39.39.9.59 1.41.59.51 0 1.02-.2 1.41-.59l7.78-7.78 2.81-2.81c.8-.78.8-2.07 0-2.86zM5.41 20L4 18.59l7.72-7.72 1.47 1.35L5.41 20z\"/>\n",
              "  </svg>\n",
              "      </button>\n",
              "      \n",
              "  <style>\n",
              "    .colab-df-container {\n",
              "      display:flex;\n",
              "      flex-wrap:wrap;\n",
              "      gap: 12px;\n",
              "    }\n",
              "\n",
              "    .colab-df-convert {\n",
              "      background-color: #E8F0FE;\n",
              "      border: none;\n",
              "      border-radius: 50%;\n",
              "      cursor: pointer;\n",
              "      display: none;\n",
              "      fill: #1967D2;\n",
              "      height: 32px;\n",
              "      padding: 0 0 0 0;\n",
              "      width: 32px;\n",
              "    }\n",
              "\n",
              "    .colab-df-convert:hover {\n",
              "      background-color: #E2EBFA;\n",
              "      box-shadow: 0px 1px 2px rgba(60, 64, 67, 0.3), 0px 1px 3px 1px rgba(60, 64, 67, 0.15);\n",
              "      fill: #174EA6;\n",
              "    }\n",
              "\n",
              "    [theme=dark] .colab-df-convert {\n",
              "      background-color: #3B4455;\n",
              "      fill: #D2E3FC;\n",
              "    }\n",
              "\n",
              "    [theme=dark] .colab-df-convert:hover {\n",
              "      background-color: #434B5C;\n",
              "      box-shadow: 0px 1px 3px 1px rgba(0, 0, 0, 0.15);\n",
              "      filter: drop-shadow(0px 1px 2px rgba(0, 0, 0, 0.3));\n",
              "      fill: #FFFFFF;\n",
              "    }\n",
              "  </style>\n",
              "\n",
              "      <script>\n",
              "        const buttonEl =\n",
              "          document.querySelector('#df-3a27d65c-9a16-4968-ba3a-01b5584e40ea button.colab-df-convert');\n",
              "        buttonEl.style.display =\n",
              "          google.colab.kernel.accessAllowed ? 'block' : 'none';\n",
              "\n",
              "        async function convertToInteractive(key) {\n",
              "          const element = document.querySelector('#df-3a27d65c-9a16-4968-ba3a-01b5584e40ea');\n",
              "          const dataTable =\n",
              "            await google.colab.kernel.invokeFunction('convertToInteractive',\n",
              "                                                     [key], {});\n",
              "          if (!dataTable) return;\n",
              "\n",
              "          const docLinkHtml = 'Like what you see? Visit the ' +\n",
              "            '<a target=\"_blank\" href=https://colab.research.google.com/notebooks/data_table.ipynb>data table notebook</a>'\n",
              "            + ' to learn more about interactive tables.';\n",
              "          element.innerHTML = '';\n",
              "          dataTable['output_type'] = 'display_data';\n",
              "          await google.colab.output.renderOutput(dataTable, element);\n",
              "          const docLink = document.createElement('div');\n",
              "          docLink.innerHTML = docLinkHtml;\n",
              "          element.appendChild(docLink);\n",
              "        }\n",
              "      </script>\n",
              "    </div>\n",
              "  </div>\n",
              "  "
            ]
          },
          "metadata": {},
          "execution_count": 10
        }
      ]
    },
    {
      "cell_type": "code",
      "source": [
        "data.drop('Month', axis=1,inplace=True)"
      ],
      "metadata": {
        "id": "BctRN8n12MmQ"
      },
      "execution_count": 11,
      "outputs": []
    },
    {
      "cell_type": "code",
      "source": [
        "#Predicting CO2 level"
      ],
      "metadata": {
        "id": "-NsfRPNp2P6a"
      },
      "execution_count": 12,
      "outputs": []
    },
    {
      "cell_type": "code",
      "source": [
        "def model(m):\n",
        "    np.random.seed(0)\n",
        "    x = data.drop('CO2', axis=1)\n",
        "    y = data['CO2']\n",
        "    x_train, x_test, y_train, y_test = train_test_split(x, y, test_size=0.2)\n",
        "    clf = m\n",
        "    clf.fit(x_train, y_train)\n",
        "    s = clf.score(x_test,y_test)\n",
        "    return s"
      ],
      "metadata": {
        "id": "3cJUmLQc2VAa"
      },
      "execution_count": 13,
      "outputs": []
    },
    {
      "cell_type": "code",
      "source": [
        "model(RandomForestRegressor())"
      ],
      "metadata": {
        "colab": {
          "base_uri": "https://localhost:8080/"
        },
        "id": "fr-P4M5P2Znh",
        "outputId": "f6b2ea3c-a977-4041-a01d-b50bd9d477fe"
      },
      "execution_count": 14,
      "outputs": [
        {
          "output_type": "execute_result",
          "data": {
            "text/plain": [
              "0.9663331274720255"
            ]
          },
          "metadata": {},
          "execution_count": 14
        }
      ]
    },
    {
      "cell_type": "code",
      "source": [
        "model(LinearRegression())"
      ],
      "metadata": {
        "colab": {
          "base_uri": "https://localhost:8080/"
        },
        "id": "RZpowCoD2bGr",
        "outputId": "1a7c903c-dac0-494b-d887-c372406615b9"
      },
      "execution_count": 15,
      "outputs": [
        {
          "output_type": "execute_result",
          "data": {
            "text/plain": [
              "0.9679096654490235"
            ]
          },
          "metadata": {},
          "execution_count": 15
        }
      ]
    },
    {
      "cell_type": "code",
      "source": [
        "np.random.seed(45)\n",
        "x = data.drop('CO2', axis=1)\n",
        "y = data['CO2']\n",
        "x_train, x_test, y_train, y_test = train_test_split(x, y, test_size=0.2)\n",
        "clf = LinearRegression()\n",
        "clf.fit(x_train, y_train)\n",
        "clf.score(x_test,y_test)"
      ],
      "metadata": {
        "colab": {
          "base_uri": "https://localhost:8080/"
        },
        "id": "VBVZREzD2o9a",
        "outputId": "44213447-9a18-4758-ab41-1dc5bf2e3d9c"
      },
      "execution_count": 16,
      "outputs": [
        {
          "output_type": "execute_result",
          "data": {
            "text/plain": [
              "0.9780810637879982"
            ]
          },
          "metadata": {},
          "execution_count": 16
        }
      ]
    },
    {
      "cell_type": "code",
      "source": [
        "y_preds = clf.predict(x_test)\n",
        "mean_absolute_error(y_test, y_preds)"
      ],
      "metadata": {
        "colab": {
          "base_uri": "https://localhost:8080/"
        },
        "id": "n_Gy0lbZ2p2i",
        "outputId": "11792c6e-09e9-43fc-b0ae-b8f9ccfc56ed"
      },
      "execution_count": 17,
      "outputs": [
        {
          "output_type": "execute_result",
          "data": {
            "text/plain": [
              "1.6292241425456537"
            ]
          },
          "metadata": {},
          "execution_count": 17
        }
      ]
    },
    {
      "cell_type": "code",
      "source": [
        "grid={'n_estimators': [10,100,200,500,1000,1200], \n",
        "      'max_depth':[None, 5, 10, 20, 30], \n",
        "      'max_features':[0.5, 0.2, 'auto', 'sqrt'],\n",
        "      'min_samples_split':[2,4,6],\n",
        "      'min_samples_leaf':[1,2,4]}\n",
        "np.random.seed(45)\n",
        "x = data.drop('CO2', axis=1)\n",
        "y = data['CO2']\n",
        "x_train, x_test, y_train, y_test = train_test_split(x, y, test_size=0.2)\n",
        "clf = RandomForestRegressor()\n",
        "rs_clf = RandomizedSearchCV(estimator=clf,\n",
        "                            param_distributions=grid,\n",
        "                            n_iter=50, \n",
        "                            cv=5,\n",
        "                            verbose=2)\n",
        "rs_clf.fit(x_train, y_train)\n",
        "rs_clf.score(x_test,y_test)"
      ],
      "metadata": {
        "colab": {
          "base_uri": "https://localhost:8080/"
        },
        "id": "DoFYLMkm2tor",
        "outputId": "8d3f4468-a642-4ae2-9bba-c01fc1792687"
      },
      "execution_count": 18,
      "outputs": [
        {
          "output_type": "stream",
          "name": "stdout",
          "text": [
            "Fitting 5 folds for each of 50 candidates, totalling 250 fits\n",
            "[CV] END max_depth=30, max_features=sqrt, min_samples_leaf=2, min_samples_split=6, n_estimators=10; total time=   0.0s\n",
            "[CV] END max_depth=30, max_features=sqrt, min_samples_leaf=2, min_samples_split=6, n_estimators=10; total time=   0.0s\n",
            "[CV] END max_depth=30, max_features=sqrt, min_samples_leaf=2, min_samples_split=6, n_estimators=10; total time=   0.0s\n",
            "[CV] END max_depth=30, max_features=sqrt, min_samples_leaf=2, min_samples_split=6, n_estimators=10; total time=   0.0s\n",
            "[CV] END max_depth=30, max_features=sqrt, min_samples_leaf=2, min_samples_split=6, n_estimators=10; total time=   0.0s\n",
            "[CV] END max_depth=5, max_features=auto, min_samples_leaf=2, min_samples_split=2, n_estimators=100; total time=   0.1s\n",
            "[CV] END max_depth=5, max_features=auto, min_samples_leaf=2, min_samples_split=2, n_estimators=100; total time=   0.1s\n",
            "[CV] END max_depth=5, max_features=auto, min_samples_leaf=2, min_samples_split=2, n_estimators=100; total time=   0.2s\n",
            "[CV] END max_depth=5, max_features=auto, min_samples_leaf=2, min_samples_split=2, n_estimators=100; total time=   0.1s\n",
            "[CV] END max_depth=5, max_features=auto, min_samples_leaf=2, min_samples_split=2, n_estimators=100; total time=   0.2s\n",
            "[CV] END max_depth=20, max_features=0.2, min_samples_leaf=4, min_samples_split=4, n_estimators=200; total time=   0.4s\n",
            "[CV] END max_depth=20, max_features=0.2, min_samples_leaf=4, min_samples_split=4, n_estimators=200; total time=   0.5s\n",
            "[CV] END max_depth=20, max_features=0.2, min_samples_leaf=4, min_samples_split=4, n_estimators=200; total time=   0.3s\n",
            "[CV] END max_depth=20, max_features=0.2, min_samples_leaf=4, min_samples_split=4, n_estimators=200; total time=   0.3s\n",
            "[CV] END max_depth=20, max_features=0.2, min_samples_leaf=4, min_samples_split=4, n_estimators=200; total time=   0.3s\n",
            "[CV] END max_depth=30, max_features=0.2, min_samples_leaf=4, min_samples_split=6, n_estimators=1200; total time=   1.6s\n",
            "[CV] END max_depth=30, max_features=0.2, min_samples_leaf=4, min_samples_split=6, n_estimators=1200; total time=   1.6s\n",
            "[CV] END max_depth=30, max_features=0.2, min_samples_leaf=4, min_samples_split=6, n_estimators=1200; total time=   1.6s\n",
            "[CV] END max_depth=30, max_features=0.2, min_samples_leaf=4, min_samples_split=6, n_estimators=1200; total time=   1.5s\n",
            "[CV] END max_depth=30, max_features=0.2, min_samples_leaf=4, min_samples_split=6, n_estimators=1200; total time=   1.5s\n",
            "[CV] END max_depth=20, max_features=auto, min_samples_leaf=4, min_samples_split=6, n_estimators=200; total time=   0.3s\n",
            "[CV] END max_depth=20, max_features=auto, min_samples_leaf=4, min_samples_split=6, n_estimators=200; total time=   0.3s\n",
            "[CV] END max_depth=20, max_features=auto, min_samples_leaf=4, min_samples_split=6, n_estimators=200; total time=   0.3s\n",
            "[CV] END max_depth=20, max_features=auto, min_samples_leaf=4, min_samples_split=6, n_estimators=200; total time=   0.3s\n",
            "[CV] END max_depth=20, max_features=auto, min_samples_leaf=4, min_samples_split=6, n_estimators=200; total time=   0.3s\n",
            "[CV] END max_depth=30, max_features=0.5, min_samples_leaf=1, min_samples_split=4, n_estimators=1000; total time=   1.4s\n",
            "[CV] END max_depth=30, max_features=0.5, min_samples_leaf=1, min_samples_split=4, n_estimators=1000; total time=   1.4s\n",
            "[CV] END max_depth=30, max_features=0.5, min_samples_leaf=1, min_samples_split=4, n_estimators=1000; total time=   1.4s\n",
            "[CV] END max_depth=30, max_features=0.5, min_samples_leaf=1, min_samples_split=4, n_estimators=1000; total time=   1.4s\n",
            "[CV] END max_depth=30, max_features=0.5, min_samples_leaf=1, min_samples_split=4, n_estimators=1000; total time=   1.4s\n",
            "[CV] END max_depth=5, max_features=0.2, min_samples_leaf=1, min_samples_split=4, n_estimators=10; total time=   0.0s\n",
            "[CV] END max_depth=5, max_features=0.2, min_samples_leaf=1, min_samples_split=4, n_estimators=10; total time=   0.0s\n",
            "[CV] END max_depth=5, max_features=0.2, min_samples_leaf=1, min_samples_split=4, n_estimators=10; total time=   0.0s\n",
            "[CV] END max_depth=5, max_features=0.2, min_samples_leaf=1, min_samples_split=4, n_estimators=10; total time=   0.0s\n",
            "[CV] END max_depth=5, max_features=0.2, min_samples_leaf=1, min_samples_split=4, n_estimators=10; total time=   0.0s\n",
            "[CV] END max_depth=20, max_features=0.5, min_samples_leaf=4, min_samples_split=6, n_estimators=1000; total time=   2.1s\n",
            "[CV] END max_depth=20, max_features=0.5, min_samples_leaf=4, min_samples_split=6, n_estimators=1000; total time=   2.0s\n",
            "[CV] END max_depth=20, max_features=0.5, min_samples_leaf=4, min_samples_split=6, n_estimators=1000; total time=   1.3s\n",
            "[CV] END max_depth=20, max_features=0.5, min_samples_leaf=4, min_samples_split=6, n_estimators=1000; total time=   1.3s\n",
            "[CV] END max_depth=20, max_features=0.5, min_samples_leaf=4, min_samples_split=6, n_estimators=1000; total time=   1.3s\n",
            "[CV] END max_depth=10, max_features=0.2, min_samples_leaf=2, min_samples_split=2, n_estimators=1000; total time=   1.3s\n",
            "[CV] END max_depth=10, max_features=0.2, min_samples_leaf=2, min_samples_split=2, n_estimators=1000; total time=   1.4s\n",
            "[CV] END max_depth=10, max_features=0.2, min_samples_leaf=2, min_samples_split=2, n_estimators=1000; total time=   1.3s\n",
            "[CV] END max_depth=10, max_features=0.2, min_samples_leaf=2, min_samples_split=2, n_estimators=1000; total time=   1.3s\n",
            "[CV] END max_depth=10, max_features=0.2, min_samples_leaf=2, min_samples_split=2, n_estimators=1000; total time=   1.3s\n",
            "[CV] END max_depth=10, max_features=0.5, min_samples_leaf=4, min_samples_split=4, n_estimators=1000; total time=   1.3s\n",
            "[CV] END max_depth=10, max_features=0.5, min_samples_leaf=4, min_samples_split=4, n_estimators=1000; total time=   1.3s\n",
            "[CV] END max_depth=10, max_features=0.5, min_samples_leaf=4, min_samples_split=4, n_estimators=1000; total time=   1.3s\n",
            "[CV] END max_depth=10, max_features=0.5, min_samples_leaf=4, min_samples_split=4, n_estimators=1000; total time=   1.3s\n",
            "[CV] END max_depth=10, max_features=0.5, min_samples_leaf=4, min_samples_split=4, n_estimators=1000; total time=   1.3s\n",
            "[CV] END max_depth=10, max_features=0.2, min_samples_leaf=4, min_samples_split=6, n_estimators=10; total time=   0.0s\n",
            "[CV] END max_depth=10, max_features=0.2, min_samples_leaf=4, min_samples_split=6, n_estimators=10; total time=   0.0s\n",
            "[CV] END max_depth=10, max_features=0.2, min_samples_leaf=4, min_samples_split=6, n_estimators=10; total time=   0.0s\n",
            "[CV] END max_depth=10, max_features=0.2, min_samples_leaf=4, min_samples_split=6, n_estimators=10; total time=   0.0s\n",
            "[CV] END max_depth=10, max_features=0.2, min_samples_leaf=4, min_samples_split=6, n_estimators=10; total time=   0.0s\n",
            "[CV] END max_depth=None, max_features=auto, min_samples_leaf=1, min_samples_split=6, n_estimators=1000; total time=   1.5s\n",
            "[CV] END max_depth=None, max_features=auto, min_samples_leaf=1, min_samples_split=6, n_estimators=1000; total time=   1.4s\n",
            "[CV] END max_depth=None, max_features=auto, min_samples_leaf=1, min_samples_split=6, n_estimators=1000; total time=   1.4s\n",
            "[CV] END max_depth=None, max_features=auto, min_samples_leaf=1, min_samples_split=6, n_estimators=1000; total time=   1.5s\n",
            "[CV] END max_depth=None, max_features=auto, min_samples_leaf=1, min_samples_split=6, n_estimators=1000; total time=   1.4s\n",
            "[CV] END max_depth=5, max_features=0.5, min_samples_leaf=1, min_samples_split=6, n_estimators=10; total time=   0.0s\n",
            "[CV] END max_depth=5, max_features=0.5, min_samples_leaf=1, min_samples_split=6, n_estimators=10; total time=   0.0s\n",
            "[CV] END max_depth=5, max_features=0.5, min_samples_leaf=1, min_samples_split=6, n_estimators=10; total time=   0.0s\n",
            "[CV] END max_depth=5, max_features=0.5, min_samples_leaf=1, min_samples_split=6, n_estimators=10; total time=   0.0s\n",
            "[CV] END max_depth=5, max_features=0.5, min_samples_leaf=1, min_samples_split=6, n_estimators=10; total time=   0.0s\n",
            "[CV] END max_depth=5, max_features=sqrt, min_samples_leaf=1, min_samples_split=6, n_estimators=1000; total time=   1.3s\n",
            "[CV] END max_depth=5, max_features=sqrt, min_samples_leaf=1, min_samples_split=6, n_estimators=1000; total time=   1.3s\n",
            "[CV] END max_depth=5, max_features=sqrt, min_samples_leaf=1, min_samples_split=6, n_estimators=1000; total time=   1.3s\n",
            "[CV] END max_depth=5, max_features=sqrt, min_samples_leaf=1, min_samples_split=6, n_estimators=1000; total time=   1.3s\n",
            "[CV] END max_depth=5, max_features=sqrt, min_samples_leaf=1, min_samples_split=6, n_estimators=1000; total time=   2.3s\n",
            "[CV] END max_depth=5, max_features=auto, min_samples_leaf=1, min_samples_split=6, n_estimators=100; total time=   0.6s\n",
            "[CV] END max_depth=5, max_features=auto, min_samples_leaf=1, min_samples_split=6, n_estimators=100; total time=   0.2s\n",
            "[CV] END max_depth=5, max_features=auto, min_samples_leaf=1, min_samples_split=6, n_estimators=100; total time=   0.1s\n",
            "[CV] END max_depth=5, max_features=auto, min_samples_leaf=1, min_samples_split=6, n_estimators=100; total time=   0.1s\n",
            "[CV] END max_depth=5, max_features=auto, min_samples_leaf=1, min_samples_split=6, n_estimators=100; total time=   0.1s\n",
            "[CV] END max_depth=20, max_features=0.2, min_samples_leaf=1, min_samples_split=2, n_estimators=200; total time=   0.3s\n",
            "[CV] END max_depth=20, max_features=0.2, min_samples_leaf=1, min_samples_split=2, n_estimators=200; total time=   0.3s\n",
            "[CV] END max_depth=20, max_features=0.2, min_samples_leaf=1, min_samples_split=2, n_estimators=200; total time=   0.3s\n",
            "[CV] END max_depth=20, max_features=0.2, min_samples_leaf=1, min_samples_split=2, n_estimators=200; total time=   0.3s\n",
            "[CV] END max_depth=20, max_features=0.2, min_samples_leaf=1, min_samples_split=2, n_estimators=200; total time=   0.3s\n",
            "[CV] END max_depth=None, max_features=0.5, min_samples_leaf=1, min_samples_split=6, n_estimators=1000; total time=   1.4s\n",
            "[CV] END max_depth=None, max_features=0.5, min_samples_leaf=1, min_samples_split=6, n_estimators=1000; total time=   1.3s\n",
            "[CV] END max_depth=None, max_features=0.5, min_samples_leaf=1, min_samples_split=6, n_estimators=1000; total time=   1.5s\n",
            "[CV] END max_depth=None, max_features=0.5, min_samples_leaf=1, min_samples_split=6, n_estimators=1000; total time=   1.3s\n",
            "[CV] END max_depth=None, max_features=0.5, min_samples_leaf=1, min_samples_split=6, n_estimators=1000; total time=   1.4s\n",
            "[CV] END max_depth=20, max_features=sqrt, min_samples_leaf=4, min_samples_split=4, n_estimators=1000; total time=   1.3s\n",
            "[CV] END max_depth=20, max_features=sqrt, min_samples_leaf=4, min_samples_split=4, n_estimators=1000; total time=   1.3s\n",
            "[CV] END max_depth=20, max_features=sqrt, min_samples_leaf=4, min_samples_split=4, n_estimators=1000; total time=   1.3s\n",
            "[CV] END max_depth=20, max_features=sqrt, min_samples_leaf=4, min_samples_split=4, n_estimators=1000; total time=   1.3s\n",
            "[CV] END max_depth=20, max_features=sqrt, min_samples_leaf=4, min_samples_split=4, n_estimators=1000; total time=   1.3s\n",
            "[CV] END max_depth=5, max_features=auto, min_samples_leaf=1, min_samples_split=6, n_estimators=10; total time=   0.0s\n",
            "[CV] END max_depth=5, max_features=auto, min_samples_leaf=1, min_samples_split=6, n_estimators=10; total time=   0.0s\n",
            "[CV] END max_depth=5, max_features=auto, min_samples_leaf=1, min_samples_split=6, n_estimators=10; total time=   0.0s\n",
            "[CV] END max_depth=5, max_features=auto, min_samples_leaf=1, min_samples_split=6, n_estimators=10; total time=   0.0s\n",
            "[CV] END max_depth=5, max_features=auto, min_samples_leaf=1, min_samples_split=6, n_estimators=10; total time=   0.0s\n",
            "[CV] END max_depth=10, max_features=auto, min_samples_leaf=4, min_samples_split=6, n_estimators=1000; total time=   1.4s\n",
            "[CV] END max_depth=10, max_features=auto, min_samples_leaf=4, min_samples_split=6, n_estimators=1000; total time=   1.4s\n",
            "[CV] END max_depth=10, max_features=auto, min_samples_leaf=4, min_samples_split=6, n_estimators=1000; total time=   1.4s\n",
            "[CV] END max_depth=10, max_features=auto, min_samples_leaf=4, min_samples_split=6, n_estimators=1000; total time=   1.4s\n",
            "[CV] END max_depth=10, max_features=auto, min_samples_leaf=4, min_samples_split=6, n_estimators=1000; total time=   1.4s\n",
            "[CV] END max_depth=None, max_features=0.5, min_samples_leaf=2, min_samples_split=6, n_estimators=10; total time=   0.0s\n",
            "[CV] END max_depth=None, max_features=0.5, min_samples_leaf=2, min_samples_split=6, n_estimators=10; total time=   0.0s\n",
            "[CV] END max_depth=None, max_features=0.5, min_samples_leaf=2, min_samples_split=6, n_estimators=10; total time=   0.0s\n",
            "[CV] END max_depth=None, max_features=0.5, min_samples_leaf=2, min_samples_split=6, n_estimators=10; total time=   0.0s\n",
            "[CV] END max_depth=None, max_features=0.5, min_samples_leaf=2, min_samples_split=6, n_estimators=10; total time=   0.0s\n",
            "[CV] END max_depth=30, max_features=0.5, min_samples_leaf=4, min_samples_split=6, n_estimators=100; total time=   0.1s\n",
            "[CV] END max_depth=30, max_features=0.5, min_samples_leaf=4, min_samples_split=6, n_estimators=100; total time=   0.1s\n",
            "[CV] END max_depth=30, max_features=0.5, min_samples_leaf=4, min_samples_split=6, n_estimators=100; total time=   0.1s\n",
            "[CV] END max_depth=30, max_features=0.5, min_samples_leaf=4, min_samples_split=6, n_estimators=100; total time=   0.1s\n",
            "[CV] END max_depth=30, max_features=0.5, min_samples_leaf=4, min_samples_split=6, n_estimators=100; total time=   0.1s\n",
            "[CV] END max_depth=10, max_features=auto, min_samples_leaf=4, min_samples_split=2, n_estimators=10; total time=   0.0s\n",
            "[CV] END max_depth=10, max_features=auto, min_samples_leaf=4, min_samples_split=2, n_estimators=10; total time=   0.0s\n",
            "[CV] END max_depth=10, max_features=auto, min_samples_leaf=4, min_samples_split=2, n_estimators=10; total time=   0.0s\n",
            "[CV] END max_depth=10, max_features=auto, min_samples_leaf=4, min_samples_split=2, n_estimators=10; total time=   0.0s\n",
            "[CV] END max_depth=10, max_features=auto, min_samples_leaf=4, min_samples_split=2, n_estimators=10; total time=   0.0s\n",
            "[CV] END max_depth=30, max_features=sqrt, min_samples_leaf=1, min_samples_split=4, n_estimators=1000; total time=   1.4s\n",
            "[CV] END max_depth=30, max_features=sqrt, min_samples_leaf=1, min_samples_split=4, n_estimators=1000; total time=   1.4s\n",
            "[CV] END max_depth=30, max_features=sqrt, min_samples_leaf=1, min_samples_split=4, n_estimators=1000; total time=   1.4s\n",
            "[CV] END max_depth=30, max_features=sqrt, min_samples_leaf=1, min_samples_split=4, n_estimators=1000; total time=   1.4s\n",
            "[CV] END max_depth=30, max_features=sqrt, min_samples_leaf=1, min_samples_split=4, n_estimators=1000; total time=   1.4s\n",
            "[CV] END max_depth=5, max_features=sqrt, min_samples_leaf=1, min_samples_split=6, n_estimators=500; total time=   0.7s\n",
            "[CV] END max_depth=5, max_features=sqrt, min_samples_leaf=1, min_samples_split=6, n_estimators=500; total time=   0.7s\n",
            "[CV] END max_depth=5, max_features=sqrt, min_samples_leaf=1, min_samples_split=6, n_estimators=500; total time=   0.7s\n",
            "[CV] END max_depth=5, max_features=sqrt, min_samples_leaf=1, min_samples_split=6, n_estimators=500; total time=   0.7s\n",
            "[CV] END max_depth=5, max_features=sqrt, min_samples_leaf=1, min_samples_split=6, n_estimators=500; total time=   0.7s\n",
            "[CV] END max_depth=10, max_features=0.5, min_samples_leaf=4, min_samples_split=2, n_estimators=500; total time=   0.7s\n",
            "[CV] END max_depth=10, max_features=0.5, min_samples_leaf=4, min_samples_split=2, n_estimators=500; total time=   0.7s\n",
            "[CV] END max_depth=10, max_features=0.5, min_samples_leaf=4, min_samples_split=2, n_estimators=500; total time=   0.7s\n",
            "[CV] END max_depth=10, max_features=0.5, min_samples_leaf=4, min_samples_split=2, n_estimators=500; total time=   0.7s\n",
            "[CV] END max_depth=10, max_features=0.5, min_samples_leaf=4, min_samples_split=2, n_estimators=500; total time=   0.7s\n",
            "[CV] END max_depth=10, max_features=0.2, min_samples_leaf=1, min_samples_split=2, n_estimators=100; total time=   0.1s\n",
            "[CV] END max_depth=10, max_features=0.2, min_samples_leaf=1, min_samples_split=2, n_estimators=100; total time=   0.1s\n",
            "[CV] END max_depth=10, max_features=0.2, min_samples_leaf=1, min_samples_split=2, n_estimators=100; total time=   0.1s\n",
            "[CV] END max_depth=10, max_features=0.2, min_samples_leaf=1, min_samples_split=2, n_estimators=100; total time=   0.1s\n",
            "[CV] END max_depth=10, max_features=0.2, min_samples_leaf=1, min_samples_split=2, n_estimators=100; total time=   0.1s\n",
            "[CV] END max_depth=20, max_features=0.5, min_samples_leaf=2, min_samples_split=6, n_estimators=200; total time=   0.3s\n",
            "[CV] END max_depth=20, max_features=0.5, min_samples_leaf=2, min_samples_split=6, n_estimators=200; total time=   0.3s\n",
            "[CV] END max_depth=20, max_features=0.5, min_samples_leaf=2, min_samples_split=6, n_estimators=200; total time=   0.3s\n",
            "[CV] END max_depth=20, max_features=0.5, min_samples_leaf=2, min_samples_split=6, n_estimators=200; total time=   0.3s\n",
            "[CV] END max_depth=20, max_features=0.5, min_samples_leaf=2, min_samples_split=6, n_estimators=200; total time=   0.3s\n",
            "[CV] END max_depth=20, max_features=0.5, min_samples_leaf=1, min_samples_split=2, n_estimators=100; total time=   0.1s\n",
            "[CV] END max_depth=20, max_features=0.5, min_samples_leaf=1, min_samples_split=2, n_estimators=100; total time=   0.1s\n",
            "[CV] END max_depth=20, max_features=0.5, min_samples_leaf=1, min_samples_split=2, n_estimators=100; total time=   0.1s\n",
            "[CV] END max_depth=20, max_features=0.5, min_samples_leaf=1, min_samples_split=2, n_estimators=100; total time=   0.2s\n",
            "[CV] END max_depth=20, max_features=0.5, min_samples_leaf=1, min_samples_split=2, n_estimators=100; total time=   0.2s\n",
            "[CV] END max_depth=5, max_features=auto, min_samples_leaf=2, min_samples_split=6, n_estimators=200; total time=   0.3s\n",
            "[CV] END max_depth=5, max_features=auto, min_samples_leaf=2, min_samples_split=6, n_estimators=200; total time=   0.3s\n",
            "[CV] END max_depth=5, max_features=auto, min_samples_leaf=2, min_samples_split=6, n_estimators=200; total time=   0.3s\n",
            "[CV] END max_depth=5, max_features=auto, min_samples_leaf=2, min_samples_split=6, n_estimators=200; total time=   0.3s\n",
            "[CV] END max_depth=5, max_features=auto, min_samples_leaf=2, min_samples_split=6, n_estimators=200; total time=   0.3s\n",
            "[CV] END max_depth=None, max_features=0.5, min_samples_leaf=1, min_samples_split=4, n_estimators=1000; total time=   1.4s\n",
            "[CV] END max_depth=None, max_features=0.5, min_samples_leaf=1, min_samples_split=4, n_estimators=1000; total time=   1.4s\n",
            "[CV] END max_depth=None, max_features=0.5, min_samples_leaf=1, min_samples_split=4, n_estimators=1000; total time=   1.4s\n",
            "[CV] END max_depth=None, max_features=0.5, min_samples_leaf=1, min_samples_split=4, n_estimators=1000; total time=   1.4s\n",
            "[CV] END max_depth=None, max_features=0.5, min_samples_leaf=1, min_samples_split=4, n_estimators=1000; total time=   1.5s\n",
            "[CV] END max_depth=30, max_features=0.2, min_samples_leaf=1, min_samples_split=6, n_estimators=10; total time=   0.0s\n",
            "[CV] END max_depth=30, max_features=0.2, min_samples_leaf=1, min_samples_split=6, n_estimators=10; total time=   0.0s\n",
            "[CV] END max_depth=30, max_features=0.2, min_samples_leaf=1, min_samples_split=6, n_estimators=10; total time=   0.0s\n",
            "[CV] END max_depth=30, max_features=0.2, min_samples_leaf=1, min_samples_split=6, n_estimators=10; total time=   0.0s\n",
            "[CV] END max_depth=30, max_features=0.2, min_samples_leaf=1, min_samples_split=6, n_estimators=10; total time=   0.0s\n",
            "[CV] END max_depth=10, max_features=0.5, min_samples_leaf=2, min_samples_split=2, n_estimators=200; total time=   0.3s\n",
            "[CV] END max_depth=10, max_features=0.5, min_samples_leaf=2, min_samples_split=2, n_estimators=200; total time=   0.3s\n",
            "[CV] END max_depth=10, max_features=0.5, min_samples_leaf=2, min_samples_split=2, n_estimators=200; total time=   0.3s\n",
            "[CV] END max_depth=10, max_features=0.5, min_samples_leaf=2, min_samples_split=2, n_estimators=200; total time=   0.3s\n",
            "[CV] END max_depth=10, max_features=0.5, min_samples_leaf=2, min_samples_split=2, n_estimators=200; total time=   0.3s\n",
            "[CV] END max_depth=None, max_features=auto, min_samples_leaf=1, min_samples_split=4, n_estimators=100; total time=   0.2s\n",
            "[CV] END max_depth=None, max_features=auto, min_samples_leaf=1, min_samples_split=4, n_estimators=100; total time=   0.2s\n",
            "[CV] END max_depth=None, max_features=auto, min_samples_leaf=1, min_samples_split=4, n_estimators=100; total time=   0.2s\n",
            "[CV] END max_depth=None, max_features=auto, min_samples_leaf=1, min_samples_split=4, n_estimators=100; total time=   0.2s\n",
            "[CV] END max_depth=None, max_features=auto, min_samples_leaf=1, min_samples_split=4, n_estimators=100; total time=   0.2s\n",
            "[CV] END max_depth=5, max_features=sqrt, min_samples_leaf=2, min_samples_split=6, n_estimators=10; total time=   0.0s\n",
            "[CV] END max_depth=5, max_features=sqrt, min_samples_leaf=2, min_samples_split=6, n_estimators=10; total time=   0.0s\n",
            "[CV] END max_depth=5, max_features=sqrt, min_samples_leaf=2, min_samples_split=6, n_estimators=10; total time=   0.0s\n",
            "[CV] END max_depth=5, max_features=sqrt, min_samples_leaf=2, min_samples_split=6, n_estimators=10; total time=   0.0s\n",
            "[CV] END max_depth=5, max_features=sqrt, min_samples_leaf=2, min_samples_split=6, n_estimators=10; total time=   0.0s\n",
            "[CV] END max_depth=5, max_features=0.5, min_samples_leaf=4, min_samples_split=6, n_estimators=1000; total time=   1.3s\n",
            "[CV] END max_depth=5, max_features=0.5, min_samples_leaf=4, min_samples_split=6, n_estimators=1000; total time=   1.3s\n",
            "[CV] END max_depth=5, max_features=0.5, min_samples_leaf=4, min_samples_split=6, n_estimators=1000; total time=   1.4s\n",
            "[CV] END max_depth=5, max_features=0.5, min_samples_leaf=4, min_samples_split=6, n_estimators=1000; total time=   1.3s\n",
            "[CV] END max_depth=5, max_features=0.5, min_samples_leaf=4, min_samples_split=6, n_estimators=1000; total time=   1.3s\n",
            "[CV] END max_depth=20, max_features=0.2, min_samples_leaf=4, min_samples_split=4, n_estimators=1000; total time=   1.3s\n",
            "[CV] END max_depth=20, max_features=0.2, min_samples_leaf=4, min_samples_split=4, n_estimators=1000; total time=   1.3s\n",
            "[CV] END max_depth=20, max_features=0.2, min_samples_leaf=4, min_samples_split=4, n_estimators=1000; total time=   1.3s\n",
            "[CV] END max_depth=20, max_features=0.2, min_samples_leaf=4, min_samples_split=4, n_estimators=1000; total time=   1.3s\n",
            "[CV] END max_depth=20, max_features=0.2, min_samples_leaf=4, min_samples_split=4, n_estimators=1000; total time=   1.3s\n",
            "[CV] END max_depth=5, max_features=auto, min_samples_leaf=2, min_samples_split=4, n_estimators=1000; total time=   1.4s\n",
            "[CV] END max_depth=5, max_features=auto, min_samples_leaf=2, min_samples_split=4, n_estimators=1000; total time=   1.4s\n",
            "[CV] END max_depth=5, max_features=auto, min_samples_leaf=2, min_samples_split=4, n_estimators=1000; total time=   1.4s\n",
            "[CV] END max_depth=5, max_features=auto, min_samples_leaf=2, min_samples_split=4, n_estimators=1000; total time=   1.4s\n",
            "[CV] END max_depth=5, max_features=auto, min_samples_leaf=2, min_samples_split=4, n_estimators=1000; total time=   1.4s\n",
            "[CV] END max_depth=5, max_features=auto, min_samples_leaf=4, min_samples_split=4, n_estimators=1000; total time=   1.4s\n",
            "[CV] END max_depth=5, max_features=auto, min_samples_leaf=4, min_samples_split=4, n_estimators=1000; total time=   1.4s\n",
            "[CV] END max_depth=5, max_features=auto, min_samples_leaf=4, min_samples_split=4, n_estimators=1000; total time=   1.4s\n",
            "[CV] END max_depth=5, max_features=auto, min_samples_leaf=4, min_samples_split=4, n_estimators=1000; total time=   1.4s\n",
            "[CV] END max_depth=5, max_features=auto, min_samples_leaf=4, min_samples_split=4, n_estimators=1000; total time=   1.4s\n",
            "[CV] END max_depth=None, max_features=0.2, min_samples_leaf=1, min_samples_split=6, n_estimators=10; total time=   0.0s\n",
            "[CV] END max_depth=None, max_features=0.2, min_samples_leaf=1, min_samples_split=6, n_estimators=10; total time=   0.0s\n",
            "[CV] END max_depth=None, max_features=0.2, min_samples_leaf=1, min_samples_split=6, n_estimators=10; total time=   0.0s\n",
            "[CV] END max_depth=None, max_features=0.2, min_samples_leaf=1, min_samples_split=6, n_estimators=10; total time=   0.0s\n",
            "[CV] END max_depth=None, max_features=0.2, min_samples_leaf=1, min_samples_split=6, n_estimators=10; total time=   0.0s\n",
            "[CV] END max_depth=None, max_features=auto, min_samples_leaf=4, min_samples_split=2, n_estimators=100; total time=   0.1s\n",
            "[CV] END max_depth=None, max_features=auto, min_samples_leaf=4, min_samples_split=2, n_estimators=100; total time=   0.1s\n",
            "[CV] END max_depth=None, max_features=auto, min_samples_leaf=4, min_samples_split=2, n_estimators=100; total time=   0.2s\n",
            "[CV] END max_depth=None, max_features=auto, min_samples_leaf=4, min_samples_split=2, n_estimators=100; total time=   0.1s\n",
            "[CV] END max_depth=None, max_features=auto, min_samples_leaf=4, min_samples_split=2, n_estimators=100; total time=   0.1s\n",
            "[CV] END max_depth=None, max_features=auto, min_samples_leaf=1, min_samples_split=2, n_estimators=1000; total time=   1.5s\n",
            "[CV] END max_depth=None, max_features=auto, min_samples_leaf=1, min_samples_split=2, n_estimators=1000; total time=   1.5s\n",
            "[CV] END max_depth=None, max_features=auto, min_samples_leaf=1, min_samples_split=2, n_estimators=1000; total time=   1.5s\n",
            "[CV] END max_depth=None, max_features=auto, min_samples_leaf=1, min_samples_split=2, n_estimators=1000; total time=   1.5s\n",
            "[CV] END max_depth=None, max_features=auto, min_samples_leaf=1, min_samples_split=2, n_estimators=1000; total time=   1.6s\n",
            "[CV] END max_depth=20, max_features=0.2, min_samples_leaf=1, min_samples_split=4, n_estimators=10; total time=   0.0s\n",
            "[CV] END max_depth=20, max_features=0.2, min_samples_leaf=1, min_samples_split=4, n_estimators=10; total time=   0.0s\n",
            "[CV] END max_depth=20, max_features=0.2, min_samples_leaf=1, min_samples_split=4, n_estimators=10; total time=   0.0s\n",
            "[CV] END max_depth=20, max_features=0.2, min_samples_leaf=1, min_samples_split=4, n_estimators=10; total time=   0.0s\n",
            "[CV] END max_depth=20, max_features=0.2, min_samples_leaf=1, min_samples_split=4, n_estimators=10; total time=   0.0s\n",
            "[CV] END max_depth=10, max_features=auto, min_samples_leaf=1, min_samples_split=4, n_estimators=500; total time=   0.7s\n",
            "[CV] END max_depth=10, max_features=auto, min_samples_leaf=1, min_samples_split=4, n_estimators=500; total time=   0.7s\n",
            "[CV] END max_depth=10, max_features=auto, min_samples_leaf=1, min_samples_split=4, n_estimators=500; total time=   0.7s\n",
            "[CV] END max_depth=10, max_features=auto, min_samples_leaf=1, min_samples_split=4, n_estimators=500; total time=   0.7s\n",
            "[CV] END max_depth=10, max_features=auto, min_samples_leaf=1, min_samples_split=4, n_estimators=500; total time=   0.7s\n",
            "[CV] END max_depth=10, max_features=sqrt, min_samples_leaf=4, min_samples_split=4, n_estimators=100; total time=   0.1s\n",
            "[CV] END max_depth=10, max_features=sqrt, min_samples_leaf=4, min_samples_split=4, n_estimators=100; total time=   0.1s\n",
            "[CV] END max_depth=10, max_features=sqrt, min_samples_leaf=4, min_samples_split=4, n_estimators=100; total time=   0.1s\n",
            "[CV] END max_depth=10, max_features=sqrt, min_samples_leaf=4, min_samples_split=4, n_estimators=100; total time=   0.1s\n",
            "[CV] END max_depth=10, max_features=sqrt, min_samples_leaf=4, min_samples_split=4, n_estimators=100; total time=   0.1s\n",
            "[CV] END max_depth=30, max_features=sqrt, min_samples_leaf=1, min_samples_split=2, n_estimators=10; total time=   0.0s\n",
            "[CV] END max_depth=30, max_features=sqrt, min_samples_leaf=1, min_samples_split=2, n_estimators=10; total time=   0.0s\n",
            "[CV] END max_depth=30, max_features=sqrt, min_samples_leaf=1, min_samples_split=2, n_estimators=10; total time=   0.0s\n",
            "[CV] END max_depth=30, max_features=sqrt, min_samples_leaf=1, min_samples_split=2, n_estimators=10; total time=   0.0s\n",
            "[CV] END max_depth=30, max_features=sqrt, min_samples_leaf=1, min_samples_split=2, n_estimators=10; total time=   0.0s\n",
            "[CV] END max_depth=30, max_features=0.5, min_samples_leaf=4, min_samples_split=4, n_estimators=200; total time=   0.3s\n",
            "[CV] END max_depth=30, max_features=0.5, min_samples_leaf=4, min_samples_split=4, n_estimators=200; total time=   0.3s\n",
            "[CV] END max_depth=30, max_features=0.5, min_samples_leaf=4, min_samples_split=4, n_estimators=200; total time=   0.3s\n",
            "[CV] END max_depth=30, max_features=0.5, min_samples_leaf=4, min_samples_split=4, n_estimators=200; total time=   0.3s\n",
            "[CV] END max_depth=30, max_features=0.5, min_samples_leaf=4, min_samples_split=4, n_estimators=200; total time=   0.3s\n",
            "[CV] END max_depth=30, max_features=0.2, min_samples_leaf=1, min_samples_split=2, n_estimators=1000; total time=   1.4s\n",
            "[CV] END max_depth=30, max_features=0.2, min_samples_leaf=1, min_samples_split=2, n_estimators=1000; total time=   1.4s\n",
            "[CV] END max_depth=30, max_features=0.2, min_samples_leaf=1, min_samples_split=2, n_estimators=1000; total time=   1.3s\n",
            "[CV] END max_depth=30, max_features=0.2, min_samples_leaf=1, min_samples_split=2, n_estimators=1000; total time=   1.3s\n",
            "[CV] END max_depth=30, max_features=0.2, min_samples_leaf=1, min_samples_split=2, n_estimators=1000; total time=   1.4s\n",
            "[CV] END max_depth=10, max_features=0.5, min_samples_leaf=2, min_samples_split=6, n_estimators=10; total time=   0.0s\n",
            "[CV] END max_depth=10, max_features=0.5, min_samples_leaf=2, min_samples_split=6, n_estimators=10; total time=   0.0s\n",
            "[CV] END max_depth=10, max_features=0.5, min_samples_leaf=2, min_samples_split=6, n_estimators=10; total time=   0.0s\n",
            "[CV] END max_depth=10, max_features=0.5, min_samples_leaf=2, min_samples_split=6, n_estimators=10; total time=   0.0s\n",
            "[CV] END max_depth=10, max_features=0.5, min_samples_leaf=2, min_samples_split=6, n_estimators=10; total time=   0.0s\n",
            "[CV] END max_depth=None, max_features=sqrt, min_samples_leaf=2, min_samples_split=6, n_estimators=100; total time=   0.1s\n",
            "[CV] END max_depth=None, max_features=sqrt, min_samples_leaf=2, min_samples_split=6, n_estimators=100; total time=   0.1s\n",
            "[CV] END max_depth=None, max_features=sqrt, min_samples_leaf=2, min_samples_split=6, n_estimators=100; total time=   0.1s\n",
            "[CV] END max_depth=None, max_features=sqrt, min_samples_leaf=2, min_samples_split=6, n_estimators=100; total time=   0.1s\n",
            "[CV] END max_depth=None, max_features=sqrt, min_samples_leaf=2, min_samples_split=6, n_estimators=100; total time=   0.1s\n"
          ]
        },
        {
          "output_type": "execute_result",
          "data": {
            "text/plain": [
              "0.9778079620335495"
            ]
          },
          "metadata": {},
          "execution_count": 18
        }
      ]
    },
    {
      "cell_type": "code",
      "source": [
        "y_preds2 = rs_clf.predict(x_test)\n",
        "mean_absolute_error(y_test, y_preds2)"
      ],
      "metadata": {
        "colab": {
          "base_uri": "https://localhost:8080/"
        },
        "id": "WdyQwwyl3Yhg",
        "outputId": "13550358-c510-419b-a4cb-6386b2397826"
      },
      "execution_count": 19,
      "outputs": [
        {
          "output_type": "execute_result",
          "data": {
            "text/plain": [
              "1.6025714516128213"
            ]
          },
          "metadata": {},
          "execution_count": 19
        }
      ]
    }
  ]
}